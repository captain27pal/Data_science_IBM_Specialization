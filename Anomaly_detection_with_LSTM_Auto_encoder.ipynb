{
    "cells": [
        {
            "cell_type": "code",
            "execution_count": 2,
            "metadata": {},
            "outputs": [],
            "source": "import numpy as np\nimport pandas as pd\nimport scipy.io as sio\nimport os"
        },
        {
            "cell_type": "code",
            "execution_count": 9,
            "metadata": {},
            "outputs": [
                {
                    "name": "stdout",
                    "output_type": "stream",
                    "text": "--2020-07-07 17:10:52--  https://csegroups.case.edu/sites/default/files/bearingdatacenter/files/Datafiles/97.mat\nResolving csegroups.case.edu (csegroups.case.edu)... 129.22.25.84\nConnecting to csegroups.case.edu (csegroups.case.edu)|129.22.25.84|:443... connected.\nWARNING: cannot verify csegroups.case.edu's certificate, issued by \u2018/C=US/ST=MI/L=Ann Arbor/O=Internet2/OU=InCommon/CN=InCommon RSA Server CA\u2019:\n  Issued certificate has expired.\nHTTP request sent, awaiting response... 200 OK\nLength: 3903344 (3.7M)\nSaving to: \u201897.mat.3\u2019\n\n100%[======================================>] 3,903,344   11.4MB/s   in 0.3s   \n\n2020-07-07 17:10:52 (11.4 MB/s) - \u201897.mat.3\u2019 saved [3903344/3903344]\n\n--2020-07-07 17:10:54--  https://csegroups.case.edu/sites/default/files/bearingdatacenter/files/Datafiles/98.mat\nResolving csegroups.case.edu (csegroups.case.edu)... 129.22.25.84\nConnecting to csegroups.case.edu (csegroups.case.edu)|129.22.25.84|:443... connected.\nWARNING: cannot verify csegroups.case.edu's certificate, issued by \u2018/C=US/ST=MI/L=Ann Arbor/O=Internet2/OU=InCommon/CN=InCommon RSA Server CA\u2019:\n  Issued certificate has expired.\nHTTP request sent, awaiting response... 200 OK\nLength: 7742720 (7.4M)\nSaving to: \u201898.mat\u2019\n\n100%[======================================>] 7,742,720   15.6MB/s   in 0.5s   \n\n2020-07-07 17:10:55 (15.6 MB/s) - \u201898.mat\u2019 saved [7742720/7742720]\n\n--2020-07-07 17:10:56--  https://csegroups.case.edu/sites/default/files/bearingdatacenter/files/Datafiles/99.mat\nResolving csegroups.case.edu (csegroups.case.edu)... 129.22.25.84\nConnecting to csegroups.case.edu (csegroups.case.edu)|129.22.25.84|:443... connected.\nWARNING: cannot verify csegroups.case.edu's certificate, issued by \u2018/C=US/ST=MI/L=Ann Arbor/O=Internet2/OU=InCommon/CN=InCommon RSA Server CA\u2019:\n  Issued certificate has expired.\nHTTP request sent, awaiting response... 200 OK\nLength: 15503928 (15M)\nSaving to: \u201899.mat\u2019\n\n100%[======================================>] 15,503,928  15.2MB/s   in 1.0s   \n\n2020-07-07 17:10:57 (15.2 MB/s) - \u201899.mat\u2019 saved [15503928/15503928]\n\n--2020-07-07 17:10:59--  https://csegroups.case.edu/sites/default/files/bearingdatacenter/files/Datafiles/100.mat\nResolving csegroups.case.edu (csegroups.case.edu)... 129.22.25.84\nConnecting to csegroups.case.edu (csegroups.case.edu)|129.22.25.84|:443... connected.\nWARNING: cannot verify csegroups.case.edu's certificate, issued by \u2018/C=US/ST=MI/L=Ann Arbor/O=Internet2/OU=InCommon/CN=InCommon RSA Server CA\u2019:\n  Issued certificate has expired.\nHTTP request sent, awaiting response... 200 OK\nLength: 7770624 (7.4M)\nSaving to: \u2018100.mat\u2019\n\n100%[======================================>] 7,770,624   12.4MB/s   in 0.6s   \n\n2020-07-07 17:11:00 (12.4 MB/s) - \u2018100.mat\u2019 saved [7770624/7770624]\n\n"
                }
            ],
            "source": "# In this notebook we will try to detect anomalies in the ball bearing data set from https://csegroups.case.edu/bearingdatacente. Te description of the data set as mentiond in the website is as follows\n\"\"\"\nThis website provides access to ball bearing test data for normal and faulty bearings.  Experiments were conducted using a 2 hp Reliance Electric motor, and acceleration data was measured at locations near to and remote from the motor bearings\n\"\"\"\n\n# !wget --no-check-certificate  https://csegroups.case.edu/bearingdatacenter/pages/normal-baseline-data/files/datafiles/97.mat\n!wget --no-check-certificate  https://csegroups.case.edu/sites/default/files/bearingdatacenter/files/Datafiles/97.mat\n!wget --no-check-certificate  https://csegroups.case.edu/sites/default/files/bearingdatacenter/files/Datafiles/98.mat\n!wget --no-check-certificate  https://csegroups.case.edu/sites/default/files/bearingdatacenter/files/Datafiles/99.mat\n!wget --no-check-certificate  https://csegroups.case.edu/sites/default/files/bearingdatacenter/files/Datafiles/100.mat"
        },
        {
            "cell_type": "code",
            "execution_count": 10,
            "metadata": {},
            "outputs": [],
            "source": "!mkdir cwr_healthy\n!mv *.mat cwr_healthy/"
        },
        {
            "cell_type": "code",
            "execution_count": 47,
            "metadata": {},
            "outputs": [
                {
                    "name": "stdout",
                    "output_type": "stream",
                    "text": "total 34M\r\n-rw-r----- 1 dsxuser dsxuser  15M Sep  7  2011 99.mat\r\n-rw-r----- 1 dsxuser dsxuser 7.4M Sep  7  2011 98.mat\r\n-rw-r----- 1 dsxuser dsxuser 3.8M Sep  7  2011 97.mat\r\n-rw-r----- 1 dsxuser dsxuser 7.5M Sep  7  2011 100.mat\r\ndrwxr-x--- 3 dsxuser dsxuser 4.0K Jul  7 17:36 ..\r\ndrwxr-x--- 2 dsxuser dsxuser 4.0K Jul  7 17:11 .\r\n"
                }
            ],
            "source": "!ls -lahr cwr_healthy"
        },
        {
            "cell_type": "code",
            "execution_count": 48,
            "metadata": {},
            "outputs": [
                {
                    "data": {
                        "text/plain": "{'__header__': b'MATLAB 5.0 MAT-file, Platform: PCWIN, Created on: Fri Jan 28 11:25:48 2000',\n '__version__': '1.0',\n '__globals__': [],\n 'X100_DE_time': array([[ 0.01460308],\n        [ 0.05444862],\n        [ 0.10764554],\n        ...,\n        [-0.02357354],\n        [ 0.00521538],\n        [ 0.04777292]]),\n 'X100_FE_time': array([[ 0.19292182],\n        [ 0.16436364],\n        [ 0.09081091],\n        ...,\n        [ 0.10930182],\n        [ 0.05218545],\n        [-0.00452   ]]),\n 'X100RPM': array([[1725]], dtype=uint16)}"
                    },
                    "execution_count": 48,
                    "metadata": {},
                    "output_type": "execute_result"
                }
            ],
            "source": "# Lets check what output we can get if we read the file with scipy's loadmat method\n\nmlf = sio.loadmat('./cwr_healthy/100.mat')\nmlf"
        },
        {
            "cell_type": "code",
            "execution_count": 49,
            "metadata": {},
            "outputs": [
                {
                    "data": {
                        "text/plain": "'100'"
                    },
                    "execution_count": 49,
                    "metadata": {},
                    "output_type": "execute_result"
                }
            ],
            "source": "file = '100.mat'\nfile_id = file[:-4]\nfile_id"
        },
        {
            "cell_type": "code",
            "execution_count": 50,
            "metadata": {},
            "outputs": [
                {
                    "data": {
                        "text/plain": "['97.mat', '99.mat', '98.mat', '100.mat']"
                    },
                    "execution_count": 50,
                    "metadata": {},
                    "output_type": "execute_result"
                }
            ],
            "source": "os.listdir('./cwr_healthy/')"
        },
        {
            "cell_type": "code",
            "execution_count": 51,
            "metadata": {},
            "outputs": [],
            "source": "def read_folder(folder):\n    data='dummy'\n    skip = False\n    for file in os.listdir(folder):\n        file_id=file[:-4]\n        mat_file_dict = sio.loadmat(folder+file)\n        del data\n        for key, value in mat_file_dict.items():\n            if 'DE_time' in key or 'FE_time' in key:\n                a = np.array(mat_file_dict[key])\n                try:\n                        data\n                except NameError:\n                    data = a\n                else:\n                    if (data.shape[0]!=a.shape[0]):\n                        print ('skipping'  + file_id)\n                        skip =True\n                        continue\n                    data = np.hstack((data,a))\n        if skip:\n            skip = False\n            continue\n        id = np.repeat(file_id, data.shape[0])\n        id.shape = (id.shape[0],1)\n        data = np.hstack((id, data))\n            \n        if data.shape[1]==2:\n            zeros  = np.repeat(float(0), datashape[0])\n            zeros.shape = (data.shape[0],1)\n            data = np.hstack((data,  zeros))\n        try: \n            result\n        except NameError:\n            result=data\n        else:\n            np.vstack((result,data))\n        return result"
        },
        {
            "cell_type": "code",
            "execution_count": 52,
            "metadata": {},
            "outputs": [
                {
                    "name": "stdout",
                    "output_type": "stream",
                    "text": "<class 'function'>\n"
                }
            ],
            "source": "result_healthy = read_folder('./cwr_healthy/') \nprint(type(read_folder))"
        },
        {
            "cell_type": "code",
            "execution_count": 53,
            "metadata": {},
            "outputs": [],
            "source": "pdf= pd.DataFrame(result_healthy)"
        },
        {
            "cell_type": "code",
            "execution_count": 54,
            "metadata": {},
            "outputs": [],
            "source": "pdf.to_csv('result_healthy_pandas.csv', header=False, index= True)"
        },
        {
            "cell_type": "code",
            "execution_count": 55,
            "metadata": {},
            "outputs": [
                {
                    "name": "stdout",
                    "output_type": "stream",
                    "text": "0,97,0.05319692307692307,0.14566727272727273\r\n1,97,0.08866153846153846,0.09779636363636364\r\n2,97,0.09971815384615385,0.05485636363636363\r\n3,97,0.05862092307692307,0.03698181818181818\r\n4,97,-0.004589538461538461,0.05444545454545455\r\n5,97,-0.056951999999999996,0.02116181818181818\r\n6,97,-0.0717636923076923,-0.003698181818181818\r\n7,97,-0.05862092307692307,-0.010683636363636364\r\n8,97,-0.04652123076923077,0.02938\r\n9,97,-0.04985907692307692,0.10457636363636363\r\n"
                }
            ],
            "source": "!head result_healthy_pandas.csv"
        },
        {
            "cell_type": "code",
            "execution_count": null,
            "metadata": {},
            "outputs": [],
            "source": ""
        }
    ],
    "metadata": {
        "kernelspec": {
            "display_name": "Python 3.6",
            "language": "python",
            "name": "python3"
        },
        "language_info": {
            "codemirror_mode": {
                "name": "ipython",
                "version": 3
            },
            "file_extension": ".py",
            "mimetype": "text/x-python",
            "name": "python",
            "nbconvert_exporter": "python",
            "pygments_lexer": "ipython3",
            "version": "3.6.9"
        }
    },
    "nbformat": 4,
    "nbformat_minor": 1
}