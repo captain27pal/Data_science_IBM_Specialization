{
    "cells": [
        {
            "metadata": {},
            "cell_type": "code",
            "source": "!git clone https://github.com/wchill/HMP_Dataset",
            "execution_count": 1,
            "outputs": [
                {
                    "output_type": "stream",
                    "text": "Waiting for a Spark session to start...\nSpark Initialization Done! ApplicationId = app-20200627170908-0000\nKERNEL_ID = bb877c8f-eaa7-44d1-b372-af3efb87a938\nCloning into 'HMP_Dataset'...\nremote: Enumerating objects: 865, done.\u001b[K\nremote: Total 865 (delta 0), reused 0 (delta 0), pack-reused 865\u001b[K\nReceiving objects: 100% (865/865), 1010.96 KiB | 0 bytes/s, done.\nChecking out files: 100% (848/848), done.\n",
                    "name": "stdout"
                }
            ]
        },
        {
            "metadata": {},
            "cell_type": "code",
            "source": "! ls HMP_Dataset",
            "execution_count": 5,
            "outputs": [
                {
                    "output_type": "stream",
                    "text": "Brush_teeth\tDrink_glass  Getup_bed\t  Pour_water\t Use_telephone\r\nClimb_stairs\tEat_meat     impdata.py   README.txt\t Walk\r\nComb_hair\tEat_soup     Liedown_bed  Sitdown_chair\r\nDescend_stairs\tfinal.py     MANUAL.txt   Standup_chair\r\n",
                    "name": "stdout"
                }
            ]
        },
        {
            "metadata": {},
            "cell_type": "code",
            "source": "! ls HMP_Dataset/Brush_teeth",
            "execution_count": 2,
            "outputs": [
                {
                    "output_type": "stream",
                    "text": "Accelerometer-2011-04-11-13-28-18-brush_teeth-f1.txt\r\nAccelerometer-2011-04-11-13-29-54-brush_teeth-f1.txt\r\nAccelerometer-2011-05-30-08-35-11-brush_teeth-f1.txt\r\nAccelerometer-2011-05-30-09-36-50-brush_teeth-f1.txt\r\nAccelerometer-2011-05-30-10-34-16-brush_teeth-m1.txt\r\nAccelerometer-2011-05-30-21-10-57-brush_teeth-f1.txt\r\nAccelerometer-2011-05-30-21-55-04-brush_teeth-m2.txt\r\nAccelerometer-2011-05-31-15-16-47-brush_teeth-f1.txt\r\nAccelerometer-2011-06-02-10-42-22-brush_teeth-f1.txt\r\nAccelerometer-2011-06-02-10-45-50-brush_teeth-f1.txt\r\nAccelerometer-2011-06-06-10-45-27-brush_teeth-f1.txt\r\nAccelerometer-2011-06-06-10-48-05-brush_teeth-f1.txt\r\n",
                    "name": "stdout"
                }
            ]
        },
        {
            "metadata": {},
            "cell_type": "code",
            "source": "from pyspark.sql.types import StructType,StructField,IntegerType",
            "execution_count": 3,
            "outputs": []
        },
        {
            "metadata": {},
            "cell_type": "code",
            "source": "schema = StructType([\n    StructField('x',IntegerType(),True),\n    StructField('y',IntegerType(),True),\n    StructField('z',IntegerType(),True),\n])",
            "execution_count": 4,
            "outputs": []
        },
        {
            "metadata": {},
            "cell_type": "code",
            "source": "print(schema)\nimport os",
            "execution_count": 5,
            "outputs": [
                {
                    "output_type": "stream",
                    "text": "StructType(List(StructField(x,IntegerType,true),StructField(y,IntegerType,true),StructField(z,IntegerType,true)))\n",
                    "name": "stdout"
                }
            ]
        },
        {
            "metadata": {},
            "cell_type": "code",
            "source": "file_list = os.listdir('HMP_Dataset')",
            "execution_count": 6,
            "outputs": []
        },
        {
            "metadata": {},
            "cell_type": "code",
            "source": "file_list_filtered = [ s for s in file_list if '_' in s]\nprint(file_list_filtered)",
            "execution_count": 7,
            "outputs": [
                {
                    "output_type": "stream",
                    "text": "['Brush_teeth', 'Climb_stairs', 'Comb_hair', 'Descend_stairs', 'Drink_glass', 'Eat_meat', 'Eat_soup', 'Getup_bed', 'Liedown_bed', 'Pour_water', 'Sitdown_chair', 'Standup_chair', 'Use_telephone']\n",
                    "name": "stdout"
                }
            ]
        },
        {
            "metadata": {},
            "cell_type": "code",
            "source": "from pyspark.sql.functions import lit, concat\ndf = None\nfor category in file_list_filtered:\n    data_files = os.listdir('HMP_Dataset/'+ category)\n    for data_file in data_files:\n        print(data_file)\n        tmp_df = spark.read.option('header',False).option('delimiter',' ').csv('HMP_Dataset/'+category+'/'+data_file,schema = schema)\n        tmp_df = tmp_df.withColumn('class', lit(category))\n        tmp_df = tmp_df.withColumn('source',lit(data_file))\n        if df is None:\n            df = tmp_df\n        else:\n            df = df.union(tmp_df)",
            "execution_count": 8,
            "outputs": [
                {
                    "output_type": "stream",
                    "text": "Accelerometer-2011-04-11-13-28-18-brush_teeth-f1.txt\nAccelerometer-2011-04-11-13-29-54-brush_teeth-f1.txt\nAccelerometer-2011-05-30-08-35-11-brush_teeth-f1.txt\nAccelerometer-2011-05-30-09-36-50-brush_teeth-f1.txt\nAccelerometer-2011-05-30-10-34-16-brush_teeth-m1.txt\nAccelerometer-2011-05-30-21-10-57-brush_teeth-f1.txt\nAccelerometer-2011-05-30-21-55-04-brush_teeth-m2.txt\nAccelerometer-2011-05-31-15-16-47-brush_teeth-f1.txt\nAccelerometer-2011-06-02-10-42-22-brush_teeth-f1.txt\nAccelerometer-2011-06-02-10-45-50-brush_teeth-f1.txt\nAccelerometer-2011-06-06-10-45-27-brush_teeth-f1.txt\nAccelerometer-2011-06-06-10-48-05-brush_teeth-f1.txt\nAccelerometer-2011-03-24-10-24-39-climb_stairs-f1.txt\nAccelerometer-2011-03-24-10-25-44-climb_stairs-f1.txt\nAccelerometer-2011-03-29-09-55-46-climb_stairs-f1.txt\nAccelerometer-2011-04-05-18-21-22-climb_stairs-f1.txt\nAccelerometer-2011-04-05-18-32-29-climb_stairs-f1.txt\nAccelerometer-2011-04-11-11-44-35-climb_stairs-f1.txt\nAccelerometer-2011-04-11-11-57-50-climb_stairs-f1.txt\nAccelerometer-2011-04-11-11-58-30-climb_stairs-f1.txt\nAccelerometer-2011-05-30-08-21-38-climb_stairs-f1.txt\nAccelerometer-2011-05-30-08-30-37-climb_stairs-f1.txt\nAccelerometer-2011-05-30-08-39-09-climb_stairs-f1.txt\nAccelerometer-2011-05-30-09-29-58-climb_stairs-f1.txt\nAccelerometer-2011-05-30-09-38-52-climb_stairs-f1.txt\nAccelerometer-2011-05-30-09-43-37-climb_stairs-f1.txt\nAccelerometer-2011-05-30-10-20-47-climb_stairs-m1.txt\nAccelerometer-2011-05-30-10-32-53-climb_stairs-m1.txt\nAccelerometer-2011-05-30-10-41-10-climb_stairs-m1.txt\nAccelerometer-2011-05-30-20-54-39-climb_stairs-f1.txt\nAccelerometer-2011-05-30-21-02-43-climb_stairs-f1.txt\nAccelerometer-2011-05-30-21-14-55-climb_stairs-f1.txt\nAccelerometer-2011-05-30-21-36-58-climb_stairs-m2.txt\nAccelerometer-2011-05-30-21-46-05-climb_stairs-m2.txt\nAccelerometer-2011-05-30-22-00-32-climb_stairs-m2.txt\nAccelerometer-2011-05-31-14-58-41-climb_stairs-f1.txt\nAccelerometer-2011-05-31-15-06-32-climb_stairs-f1.txt\nAccelerometer-2011-05-31-15-20-50-climb_stairs-f1.txt\nAccelerometer-2011-05-31-16-26-09-climb_stairs-f1.txt\nAccelerometer-2011-05-31-16-32-44-climb_stairs-f1.txt\nAccelerometer-2011-06-02-10-37-15-climb_stairs-f1.txt\nAccelerometer-2011-06-02-10-37-44-climb_stairs-f1.txt\nAccelerometer-2011-06-02-10-39-21-climb_stairs-f1.txt\nAccelerometer-2011-06-02-10-40-10-climb_stairs-f1.txt\nAccelerometer-2011-06-06-10-57-19-climb_stairs-f1.txt\nAccelerometer-2011-06-06-10-57-43-climb_stairs-f1.txt\nAccelerometer-2011-06-06-10-59-08-climb_stairs-f1.txt\nAccelerometer-2011-06-06-10-59-58-climb_stairs-f1.txt\nAccelerometer-2011-06-06-11-00-50-climb_stairs-f1.txt\nAccelerometer-2011-06-06-11-01-27-climb_stairs-f1.txt\nAccelerometer-2011-06-06-11-02-24-climb_stairs-f1.txt\nAccelerometer-2012-05-28-17-56-03-climb_stairs-m1.txt\nAccelerometer-2012-05-28-17-56-40-climb_stairs-m1.txt\nAccelerometer-2012-05-29-16-53-12-climb_stairs-f2.txt\nAccelerometer-2012-05-29-16-54-38-climb_stairs-f2.txt\nAccelerometer-2012-05-29-17-17-05-climb_stairs-m3.txt\nAccelerometer-2012-05-29-17-17-51-climb_stairs-m3.txt\nAccelerometer-2012-05-30-18-31-08-climb_stairs-f3.txt\nAccelerometer-2012-05-30-18-31-52-climb_stairs-f3.txt\nAccelerometer-2012-05-30-18-32-56-climb_stairs-f3.txt\nAccelerometer-2012-05-30-18-33-57-climb_stairs-f3.txt\nAccelerometer-2012-05-30-19-12-19-climb_stairs-m4.txt\nAccelerometer-2012-05-30-19-12-57-climb_stairs-m4.txt\nAccelerometer-2012-05-30-19-13-50-climb_stairs-m4.txt\nAccelerometer-2012-05-30-19-14-51-climb_stairs-m4.txt\nAccelerometer-2012-05-30-22-06-17-climb_stairs-m2.txt\nAccelerometer-2012-05-30-22-06-47-climb_stairs-m2.txt\nAccelerometer-2012-05-30-22-07-15-climb_stairs-m2.txt\nAccelerometer-2012-05-30-22-07-44-climb_stairs-m2.txt\nAccelerometer-2012-05-30-22-08-15-climb_stairs-m2.txt\nAccelerometer-2012-06-06-08-53-29-climb_stairs-m5.txt\nAccelerometer-2012-06-06-08-53-47-climb_stairs-m5.txt\nAccelerometer-2012-06-06-08-54-08-climb_stairs-m5.txt\nAccelerometer-2012-06-06-08-54-29-climb_stairs-m5.txt\nAccelerometer-2012-06-06-08-59-53-climb_stairs-m5.txt\nAccelerometer-2012-06-06-09-00-24-climb_stairs-m5.txt\nAccelerometer-2012-06-06-09-00-51-climb_stairs-m5.txt\nAccelerometer-2012-06-06-09-01-08-climb_stairs-m5.txt\nAccelerometer-2012-06-06-09-05-28-climb_stairs-m5.txt\nAccelerometer-2012-06-06-09-06-03-climb_stairs-m5.txt\nAccelerometer-2012-06-06-09-06-28-climb_stairs-m5.txt\nAccelerometer-2012-06-06-09-06-49-climb_stairs-m5.txt\nAccelerometer-2012-06-06-09-32-04-climb_stairs-m6.txt\nAccelerometer-2012-06-06-09-32-36-climb_stairs-m6.txt\nAccelerometer-2012-06-06-09-32-58-climb_stairs-m6.txt\nAccelerometer-2012-06-06-09-33-15-climb_stairs-m6.txt\nAccelerometer-2012-06-06-09-37-23-climb_stairs-m6.txt\nAccelerometer-2012-06-06-09-37-58-climb_stairs-m6.txt\nAccelerometer-2012-06-06-09-38-17-climb_stairs-m6.txt\nAccelerometer-2012-06-06-09-38-43-climb_stairs-m6.txt\nAccelerometer-2012-06-06-09-42-55-climb_stairs-m6.txt\nAccelerometer-2012-06-06-09-43-14-climb_stairs-m6.txt\nAccelerometer-2012-06-06-09-43-47-climb_stairs-m6.txt\nAccelerometer-2012-06-06-09-44-02-climb_stairs-m6.txt\nAccelerometer-2012-06-06-14-04-18-climb_stairs-m7.txt\nAccelerometer-2012-06-06-14-04-51-climb_stairs-m7.txt\nAccelerometer-2012-06-06-14-05-05-climb_stairs-m7.txt\nAccelerometer-2012-06-06-14-05-18-climb_stairs-m7.txt\nAccelerometer-2012-06-06-14-08-44-climb_stairs-m7.txt\nAccelerometer-2012-06-06-14-08-57-climb_stairs-m7.txt\nAccelerometer-2012-06-06-14-09-12-climb_stairs-m7.txt\nAccelerometer-2012-06-06-14-09-24-climb_stairs-m7.txt\nAccelerometer-2012-06-06-14-12-35-climb_stairs-m7.txt\nAccelerometer-2012-06-06-14-12-49-climb_stairs-m7.txt\nAccelerometer-2012-06-06-14-13-05-climb_stairs-m7.txt\nAccelerometer-2012-06-06-14-13-20-climb_stairs-m7.txt\nAccelerometer-2012-06-07-10-48-08-climb_stairs-f1.txt\nAccelerometer-2012-06-07-10-48-24-climb_stairs-f1.txt\nAccelerometer-2012-06-07-10-49-17-climb_stairs-f1.txt\nAccelerometer-2012-06-07-10-49-35-climb_stairs-f1.txt\nAccelerometer-2012-06-07-10-53-34-climb_stairs-f1.txt\nAccelerometer-2012-06-07-10-53-53-climb_stairs-f1.txt\nAccelerometer-2012-06-07-10-54-12-climb_stairs-f1.txt\nAccelerometer-2012-06-07-10-54-29-climb_stairs-f1.txt\nAccelerometer-2011-03-24-09-44-34-comb_hair-f1.txt\nAccelerometer-2011-03-24-10-26-33-comb_hair-f1.txt\nAccelerometer-2011-03-24-10-57-40-comb_hair-f1.txt\nAccelerometer-2011-03-24-16-10-36-comb_hair-f2.txt\nAccelerometer-2011-03-29-08-57-24-comb_hair-f1.txt\nAccelerometer-2011-04-11-13-31-24-comb_hair-f1.txt\nAccelerometer-2011-05-30-08-32-58-comb_hair-f1.txt\nAccelerometer-2011-05-30-09-39-49-comb_hair-f1.txt\nAccelerometer-2011-05-30-10-36-26-comb_hair-m1.txt\nAccelerometer-2011-05-30-21-08-40-comb_hair-f1.txt\nAccelerometer-2011-05-30-21-57-03-comb_hair-m2.txt\nAccelerometer-2011-05-31-15-14-55-comb_hair-f1.txt\nAccelerometer-2011-06-02-10-41-33-comb_hair-f1.txt\nAccelerometer-2011-06-02-10-44-17-comb_hair-f1.txt\nAccelerometer-2011-06-02-16-12-44-comb_hair-f1.txt\nAccelerometer-2011-06-02-16-14-07-comb_hair-f1.txt\nAccelerometer-2011-06-02-16-18-54-comb_hair-f1.txt\nAccelerometer-2011-06-02-16-20-04-comb_hair-f1.txt\nAccelerometer-2011-06-02-16-48-41-comb_hair-f4.txt\nAccelerometer-2011-06-02-16-49-27-comb_hair-f4.txt\nAccelerometer-2011-06-02-16-56-03-comb_hair-f4.txt\nAccelerometer-2011-06-02-17-02-50-comb_hair-f4.txt\nAccelerometer-2011-06-02-17-03-33-comb_hair-f4.txt\nAccelerometer-2011-06-02-17-18-58-comb_hair-m1.txt\nAccelerometer-2011-06-02-17-32-57-comb_hair-m1.txt\nAccelerometer-2011-06-02-17-39-02-comb_hair-m1.txt\nAccelerometer-2011-06-02-17-39-54-comb_hair-m1.txt\nAccelerometer-2011-06-06-10-03-47-comb_hair-f1.txt\nAccelerometer-2011-06-06-10-05-40-comb_hair-f1.txt\nAccelerometer-2011-06-06-10-08-56-comb_hair-f1.txt\nAccelerometer-2011-06-06-10-10-30-comb_hair-f1.txt\nAccelerometer-2011-03-24-10-24-02-descend_stairs-f1.txt\nAccelerometer-2011-03-24-10-25-11-descend_stairs-f1.txt\nAccelerometer-2011-03-24-11-20-43-descend_stairs-f1.txt\nAccelerometer-2011-03-29-09-15-58-descend_stairs-f1.txt\nAccelerometer-2011-03-29-16-16-34-descend_stairs-f1.txt\nAccelerometer-2011-03-29-16-17-18-descend_stairs-f1.txt\nAccelerometer-2011-03-29-16-17-50-descend_stairs-f1.txt\nAccelerometer-2011-03-29-16-18-14-descend_stairs-f1.txt\nAccelerometer-2011-04-05-18-26-06-descend_stairs-f1.txt\nAccelerometer-2011-04-11-11-51-27-descend_stairs-f1.txt\nAccelerometer-2011-04-11-13-32-24-descend_stairs-f1.txt\nAccelerometer-2011-05-30-08-20-55-descend_stairs-f1.txt\n",
                    "name": "stdout"
                },
                {
                    "output_type": "stream",
                    "text": "Accelerometer-2011-05-30-08-24-58-descend_stairs-f1.txt\nAccelerometer-2011-05-30-08-34-06-descend_stairs-f1.txt\nAccelerometer-2011-05-30-09-29-15-descend_stairs-f1.txt\nAccelerometer-2011-05-30-09-31-43-descend_stairs-f1.txt\nAccelerometer-2011-05-30-09-40-50-descend_stairs-f1.txt\nAccelerometer-2011-05-30-10-19-56-descend_stairs-m1.txt\nAccelerometer-2011-05-30-10-24-51-descend_stairs-m1.txt\nAccelerometer-2011-05-30-10-37-30-descend_stairs-m1.txt\nAccelerometer-2011-05-30-20-48-10-descend_stairs-f1.txt\nAccelerometer-2011-05-30-20-56-43-descend_stairs-f1.txt\nAccelerometer-2011-05-30-21-09-46-descend_stairs-f1.txt\nAccelerometer-2011-05-30-21-32-18-descend_stairs-m2.txt\nAccelerometer-2011-05-30-21-39-11-descend_stairs-m2.txt\nAccelerometer-2011-05-30-21-53-35-descend_stairs-m2.txt\nAccelerometer-2011-05-31-14-52-31-descend_stairs-f1.txt\nAccelerometer-2011-05-31-15-00-30-descend_stairs-f1.txt\nAccelerometer-2011-05-31-15-15-48-descend_stairs-f1.txt\nAccelerometer-2011-05-31-16-21-49-descend_stairs-f1.txt\nAccelerometer-2011-05-31-16-28-22-descend_stairs-f1.txt\nAccelerometer-2011-06-02-10-36-04-descend_stairs-f1.txt\nAccelerometer-2011-06-02-10-36-42-descend_stairs-f1.txt\nAccelerometer-2011-06-02-10-38-15-descend_stairs-f1.txt\nAccelerometer-2011-06-02-10-38-52-descend_stairs-f1.txt\nAccelerometer-2011-06-06-10-56-23-descend_stairs-f1.txt\nAccelerometer-2011-06-06-10-56-55-descend_stairs-f1.txt\nAccelerometer-2011-06-06-10-58-14-descend_stairs-f1.txt\nAccelerometer-2011-06-06-10-58-40-descend_stairs-f1.txt\nAccelerometer-2011-06-06-10-59-38-descend_stairs-f1.txt\nAccelerometer-2011-06-06-11-00-26-descend_stairs-f1.txt\nAccelerometer-2011-06-06-11-01-54-descend_stairs-f1.txt\nAccelerometer-2011-03-24-10-07-02-drink_glass-f1.txt\nAccelerometer-2011-03-24-10-16-02-drink_glass-f1.txt\nAccelerometer-2011-03-24-10-46-25-drink_glass-f1.txt\nAccelerometer-2011-03-24-11-14-00-drink_glass-f1.txt\nAccelerometer-2011-03-24-13-09-29-drink_glass-f1.txt\nAccelerometer-2011-03-24-13-17-06-drink_glass-f1.txt\nAccelerometer-2011-03-24-13-31-22-drink_glass-f1.txt\nAccelerometer-2011-03-24-16-08-10-drink_glass-f2.txt\nAccelerometer-2011-03-24-16-08-29-drink_glass-f2.txt\nAccelerometer-2011-04-05-18-55-33-drink_glass-f1.txt\nAccelerometer-2011-04-08-17-33-35-drink_glass-f3.txt\nAccelerometer-2011-04-08-17-35-00-drink_glass-f3.txt\nAccelerometer-2011-04-08-18-10-09-drink_glass-m4.txt\nAccelerometer-2011-04-11-12-55-39-drink_glass-f1.txt\nAccelerometer-2011-04-11-13-17-55-drink_glass-f1.txt\nAccelerometer-2011-04-12-21-43-48-drink_glass-m8.txt\nAccelerometer-2011-04-12-21-44-55-drink_glass-m8.txt\nAccelerometer-2011-05-30-21-06-15-drink_glass-f1.txt\nAccelerometer-2011-05-30-21-06-42-drink_glass-f1.txt\nAccelerometer-2011-05-30-21-07-10-drink_glass-f1.txt\nAccelerometer-2011-05-30-21-51-35-drink_glass-m2.txt\nAccelerometer-2011-05-30-21-51-59-drink_glass-m2.txt\nAccelerometer-2011-05-30-21-52-25-drink_glass-m2.txt\nAccelerometer-2011-05-31-15-12-05-drink_glass-f1.txt\nAccelerometer-2011-05-31-15-12-36-drink_glass-f1.txt\nAccelerometer-2011-05-31-15-13-09-drink_glass-f1.txt\nAccelerometer-2011-05-31-16-35-12-drink_glass-f1.txt\nAccelerometer-2011-05-31-16-35-41-drink_glass-f1.txt\nAccelerometer-2011-05-31-16-37-39-drink_glass-f1.txt\nAccelerometer-2011-06-01-14-13-57-drink_glass-f1.txt\nAccelerometer-2011-06-01-14-14-22-drink_glass-f1.txt\nAccelerometer-2011-06-01-14-14-49-drink_glass-f1.txt\nAccelerometer-2011-06-01-14-15-19-drink_glass-f1.txt\nAccelerometer-2011-06-01-14-15-49-drink_glass-f1.txt\nAccelerometer-2011-06-01-14-20-46-drink_glass-f1.txt\nAccelerometer-2011-06-01-14-21-52-drink_glass-f1.txt\nAccelerometer-2011-06-01-14-23-15-drink_glass-f1.txt\nAccelerometer-2011-06-01-14-24-51-drink_glass-f1.txt\nAccelerometer-2011-06-01-14-28-50-drink_glass-f1.txt\nAccelerometer-2011-06-01-14-30-43-drink_glass-f1.txt\nAccelerometer-2011-06-01-14-33-59-drink_glass-f1.txt\nAccelerometer-2011-06-01-15-04-40-drink_glass-f1.txt\nAccelerometer-2011-06-01-15-09-37-drink_glass-f1.txt\nAccelerometer-2011-06-01-15-14-42-drink_glass-f1.txt\nAccelerometer-2011-06-01-15-25-43-drink_glass-f1.txt\nAccelerometer-2011-06-01-16-44-44-drink_glass-f1.txt\nAccelerometer-2011-06-01-16-45-39-drink_glass-f1.txt\nAccelerometer-2011-06-01-16-47-29-drink_glass-f1.txt\nAccelerometer-2011-06-01-16-49-14-drink_glass-f1.txt\nAccelerometer-2011-06-01-16-53-24-drink_glass-f1.txt\nAccelerometer-2011-06-01-16-57-10-drink_glass-f1.txt\nAccelerometer-2011-06-02-16-51-25-drink_glass-f4.txt\nAccelerometer-2011-06-02-16-51-58-drink_glass-f4.txt\nAccelerometer-2011-06-02-16-52-53-drink_glass-f4.txt\nAccelerometer-2011-06-02-17-19-56-drink_glass-m1.txt\nAccelerometer-2011-06-02-17-20-17-drink_glass-m1.txt\nAccelerometer-2011-06-02-17-20-47-drink_glass-m1.txt\nAccelerometer-2011-06-02-17-23-53-drink_glass-m1.txt\nAccelerometer-2011-06-02-17-24-39-drink_glass-m1.txt\nAccelerometer-2011-06-02-17-29-13-drink_glass-m1.txt\nAccelerometer-2011-06-02-17-29-50-drink_glass-m1.txt\nAccelerometer-2011-06-02-17-30-51-drink_glass-m1.txt\nAccelerometer-2011-06-02-17-32-31-drink_glass-m1.txt\nAccelerometer-2011-06-02-17-40-40-drink_glass-m1.txt\nAccelerometer-2011-06-02-17-52-26-drink_glass-m1.txt\nAccelerometer-2012-03-23-03-47-02-drink_glass-m9.txt\nAccelerometer-2012-03-23-03-47-36-drink_glass-m9.txt\nAccelerometer-2012-03-23-03-54-54-drink_glass-m9.txt\nAccelerometer-2012-03-26-04-53-07-drink_glass-f2.txt\nAccelerometer-2012-03-26-04-56-11-drink_glass-f2.txt\nAccelerometer-2012-03-26-05-02-06-drink_glass-m3.txt\nAccelerometer-2012-03-26-05-03-53-drink_glass-m3.txt\nAccelerometer-2012-05-25-18-30-30-drink_glass-f4.txt\nAccelerometer-2012-05-25-18-31-18-drink_glass-f4.txt\nAccelerometer-2012-05-25-18-32-32-drink_glass-f4.txt\nAccelerometer-2012-05-25-18-33-57-drink_glass-f4.txt\nAccelerometer-2012-05-25-18-36-27-drink_glass-f4.txt\nAccelerometer-2012-05-28-17-42-29-drink_glass-m1.txt\nAccelerometer-2012-05-28-17-44-02-drink_glass-m1.txt\nAccelerometer-2012-05-28-17-44-31-drink_glass-m1.txt\nAccelerometer-2012-05-28-17-47-23-drink_glass-m1.txt\nAccelerometer-2012-05-28-17-47-49-drink_glass-m1.txt\nAccelerometer-2012-05-28-17-50-04-drink_glass-m1.txt\nAccelerometer-2012-05-29-16-42-17-drink_glass-f2.txt\nAccelerometer-2012-05-29-16-44-12-drink_glass-f2.txt\nAccelerometer-2012-05-29-16-48-07-drink_glass-f2.txt\nAccelerometer-2012-05-29-17-11-01-drink_glass-m3.txt\nAccelerometer-2012-05-29-17-20-28-drink_glass-m3.txt\nAccelerometer-2012-05-30-19-51-49-drink_glass-f2.txt\nAccelerometer-2012-05-30-19-53-19-drink_glass-f2.txt\nAccelerometer-2012-05-30-19-53-49-drink_glass-f2.txt\nAccelerometer-2012-05-30-19-54-48-drink_glass-f2.txt\nAccelerometer-2012-05-30-19-57-08-drink_glass-m3.txt\nAccelerometer-2012-05-30-19-58-10-drink_glass-m3.txt\nAccelerometer-2012-05-30-19-58-44-drink_glass-m3.txt\nAccelerometer-2012-05-30-19-59-40-drink_glass-m3.txt\nAccelerometer-2012-05-30-21-48-13-drink_glass-m2.txt\nAccelerometer-2012-05-30-21-48-45-drink_glass-m2.txt\nAccelerometer-2012-05-30-22-10-16-drink_glass-m2.txt\nAccelerometer-2012-05-30-22-10-40-drink_glass-m2.txt\nAccelerometer-2011-03-24-13-06-15-eat_meat-f1.txt\nAccelerometer-2011-03-24-13-10-14-eat_meat-f1.txt\nAccelerometer-2011-03-24-13-12-52-eat_meat-f1.txt\nAccelerometer-2011-03-24-13-17-42-eat_meat-f1.txt\nAccelerometer-2011-03-24-13-21-39-eat_meat-f1.txt\nAccelerometer-2011-03-24-13-33-22-eat_soup-f1.txt\nAccelerometer-2011-03-24-13-44-18-eat_soup-f1.txt\nAccelerometer-2011-03-24-13-56-42-eat_soup-f1.txt\nAccelerometer-2011-03-29-09-21-17-getup_bed-f1.txt\nAccelerometer-2011-03-29-09-24-50-getup_bed-f1.txt\nAccelerometer-2011-03-29-09-49-03-getup_bed-f1.txt\nAccelerometer-2011-04-05-18-28-21-getup_bed-f1.txt\nAccelerometer-2011-04-11-11-53-01-getup_bed-f1.txt\nAccelerometer-2011-04-11-13-34-05-getup_bed-f1.txt\nAccelerometer-2011-05-30-08-26-56-getup_bed-f1.txt\nAccelerometer-2011-05-30-08-38-15-getup_bed-f1.txt\nAccelerometer-2011-05-30-09-33-26-getup_bed-f1.txt\nAccelerometer-2011-05-30-09-42-46-getup_bed-f1.txt\nAccelerometer-2011-05-30-10-27-01-getup_bed-m1.txt\nAccelerometer-2011-05-30-10-39-27-getup_bed-m1.txt\nAccelerometer-2011-05-30-20-53-40-getup_bed-f1.txt\nAccelerometer-2011-05-30-20-59-57-getup_bed-f1.txt\nAccelerometer-2011-05-30-21-13-57-getup_bed-f1.txt\nAccelerometer-2011-05-30-21-36-01-getup_bed-m2.txt\nAccelerometer-2011-05-30-21-42-30-getup_bed-m2.txt\n",
                    "name": "stdout"
                },
                {
                    "output_type": "stream",
                    "text": "Accelerometer-2011-05-30-21-59-46-getup_bed-m2.txt\nAccelerometer-2011-05-31-14-57-24-getup_bed-f1.txt\nAccelerometer-2011-05-31-15-02-55-getup_bed-f1.txt\nAccelerometer-2011-05-31-15-19-41-getup_bed-f1.txt\nAccelerometer-2011-05-31-16-25-09-getup_bed-f1.txt\nAccelerometer-2011-05-31-16-30-18-getup_bed-f1.txt\nAccelerometer-2011-06-02-16-57-57-getup_bed-f4.txt\nAccelerometer-2011-06-02-16-58-46-getup_bed-f4.txt\nAccelerometer-2011-06-02-17-00-08-getup_bed-f4.txt\nAccelerometer-2011-06-02-17-22-34-getup_bed-m1.txt\nAccelerometer-2012-05-28-17-52-54-getup_bed-m1.txt\nAccelerometer-2012-05-28-17-53-29-getup_bed-m1.txt\nAccelerometer-2012-05-28-17-54-04-getup_bed-m1.txt\nAccelerometer-2012-05-28-17-54-37-getup_bed-m1.txt\nAccelerometer-2012-05-28-17-55-04-getup_bed-m1.txt\nAccelerometer-2012-05-30-21-51-41-getup_bed-m2.txt\nAccelerometer-2012-05-30-21-52-18-getup_bed-m2.txt\nAccelerometer-2012-05-30-21-53-05-getup_bed-m2.txt\nAccelerometer-2012-05-30-21-53-38-getup_bed-m2.txt\nAccelerometer-2012-05-30-21-54-12-getup_bed-m2.txt\nAccelerometer-2012-06-07-22-15-16-getup_bed-f4.txt\nAccelerometer-2012-06-07-22-16-05-getup_bed-f4.txt\nAccelerometer-2012-06-07-22-16-42-getup_bed-f4.txt\nAccelerometer-2012-06-07-22-17-45-getup_bed-f4.txt\nAccelerometer-2012-06-07-22-19-25-getup_bed-f4.txt\nAccelerometer-2012-06-07-22-20-59-getup_bed-f4.txt\nAccelerometer-2012-06-07-22-23-46-getup_bed-f4.txt\nAccelerometer-2012-06-07-22-24-33-getup_bed-f4.txt\nAccelerometer-2012-06-07-22-26-32-getup_bed-f4.txt\nAccelerometer-2012-06-07-22-28-50-getup_bed-f4.txt\nAccelerometer-2012-06-07-22-30-31-getup_bed-f4.txt\nAccelerometer-2012-06-07-22-31-18-getup_bed-f4.txt\nAccelerometer-2012-06-12-15-28-34-getup_bed-m4.txt\nAccelerometer-2012-06-12-15-29-15-getup_bed-m4.txt\nAccelerometer-2012-06-12-15-30-07-getup_bed-m4.txt\nAccelerometer-2012-06-12-15-31-01-getup_bed-m4.txt\nAccelerometer-2012-06-12-15-31-56-getup_bed-m4.txt\nAccelerometer-2012-06-12-15-32-38-getup_bed-m4.txt\nAccelerometer-2012-06-12-15-34-01-getup_bed-m4.txt\nAccelerometer-2012-06-12-15-34-40-getup_bed-m4.txt\nAccelerometer-2012-06-12-15-35-29-getup_bed-m4.txt\nAccelerometer-2012-06-12-15-36-02-getup_bed-m4.txt\nAccelerometer-2012-06-12-15-50-48-getup_bed-f3.txt\nAccelerometer-2012-06-12-15-51-25-getup_bed-f3.txt\nAccelerometer-2012-06-12-15-52-04-getup_bed-f3.txt\nAccelerometer-2012-06-12-15-52-46-getup_bed-f3.txt\nAccelerometer-2012-06-12-15-53-20-getup_bed-f3.txt\nAccelerometer-2012-06-12-15-54-03-getup_bed-f3.txt\nAccelerometer-2012-06-12-15-54-33-getup_bed-f3.txt\nAccelerometer-2012-06-12-15-56-41-getup_bed-f3.txt\nAccelerometer-2012-06-12-15-57-21-getup_bed-f3.txt\nAccelerometer-2012-06-12-15-58-01-getup_bed-f3.txt\nAccelerometer-2012-06-12-18-39-37-getup_bed-f2.txt\nAccelerometer-2012-06-12-18-40-26-getup_bed-f2.txt\nAccelerometer-2012-06-12-18-41-40-getup_bed-f2.txt\nAccelerometer-2012-06-12-18-42-44-getup_bed-f2.txt\nAccelerometer-2012-06-12-18-43-26-getup_bed-f2.txt\nAccelerometer-2012-06-12-18-44-04-getup_bed-f2.txt\nAccelerometer-2012-06-12-18-44-53-getup_bed-f2.txt\nAccelerometer-2012-06-12-18-48-47-getup_bed-m3.txt\nAccelerometer-2012-06-12-18-49-31-getup_bed-m3.txt\nAccelerometer-2012-06-12-18-50-08-getup_bed-m3.txt\nAccelerometer-2012-06-12-18-50-50-getup_bed-m3.txt\nAccelerometer-2012-06-12-18-51-33-getup_bed-m3.txt\nAccelerometer-2012-06-12-18-52-06-getup_bed-m3.txt\nAccelerometer-2012-06-12-18-52-37-getup_bed-m3.txt\nAccelerometer-2012-06-20-20-27-19-getup_bed-f5.txt\nAccelerometer-2012-06-20-20-28-27-getup_bed-f5.txt\nAccelerometer-2012-06-20-20-29-11-getup_bed-f5.txt\nAccelerometer-2012-06-20-20-29-49-getup_bed-f5.txt\nAccelerometer-2012-06-20-20-30-45-getup_bed-f5.txt\nAccelerometer-2012-06-20-20-31-40-getup_bed-f5.txt\nAccelerometer-2012-06-20-20-32-40-getup_bed-f5.txt\nAccelerometer-2012-06-20-20-33-22-getup_bed-f5.txt\nAccelerometer-2012-06-20-20-34-30-getup_bed-f5.txt\nAccelerometer-2012-06-20-21-52-24-getup_bed-m10.txt\nAccelerometer-2012-06-20-21-53-06-getup_bed-m10.txt\nAccelerometer-2012-06-20-21-53-40-getup_bed-m10.txt\nAccelerometer-2012-06-20-21-55-30-getup_bed-m10.txt\nAccelerometer-2012-06-20-21-56-36-getup_bed-m10.txt\nAccelerometer-2012-06-20-21-57-33-getup_bed-m10.txt\nAccelerometer-2012-06-20-21-58-13-getup_bed-m10.txt\nAccelerometer-2012-06-20-21-59-57-getup_bed-m10.txt\nAccelerometer-2012-06-20-22-00-55-getup_bed-m10.txt\nAccelerometer-2011-03-29-09-19-22-liedown_bed-f1.txt\nAccelerometer-2011-03-29-09-23-22-liedown_bed-f1.txt\nAccelerometer-2011-03-29-09-45-46-liedown_bed-f1.txt\nAccelerometer-2011-04-05-18-27-12-liedown_bed-f1.txt\nAccelerometer-2011-04-11-11-52-20-liedown_bed-f1.txt\nAccelerometer-2011-04-11-13-33-26-liedown_bed-f1.txt\nAccelerometer-2011-05-30-08-25-59-liedown_bed-f1.txt\nAccelerometer-2011-05-30-08-37-27-liedown_bed-f1.txt\nAccelerometer-2011-05-30-09-32-42-liedown_bed-f1.txt\nAccelerometer-2011-05-30-09-41-49-liedown_bed-f1.txt\nAccelerometer-2011-05-30-10-26-14-liedown_bed-m1.txt\nAccelerometer-2011-05-30-10-38-41-liedown_bed-m1.txt\nAccelerometer-2011-05-30-20-52-31-liedown_bed-f1.txt\nAccelerometer-2011-05-30-20-59-04-liedown_bed-f1.txt\nAccelerometer-2011-05-30-21-13-15-liedown_bed-f1.txt\nAccelerometer-2011-05-30-21-35-19-liedown_bed-m2.txt\nAccelerometer-2011-05-30-21-41-32-liedown_bed-m2.txt\nAccelerometer-2011-05-30-21-59-16-liedown_bed-m2.txt\nAccelerometer-2011-05-31-14-56-04-liedown_bed-f1.txt\nAccelerometer-2011-05-31-15-02-19-liedown_bed-f1.txt\nAccelerometer-2011-05-31-15-18-50-liedown_bed-f1.txt\nAccelerometer-2011-05-31-16-24-36-liedown_bed-f1.txt\nAccelerometer-2011-05-31-16-29-43-liedown_bed-f1.txt\nAccelerometer-2011-06-02-16-57-35-liedown_bed-f4.txt\nAccelerometer-2011-06-02-16-58-20-liedown_bed-f4.txt\nAccelerometer-2011-06-02-16-59-13-liedown_bed-f4.txt\nAccelerometer-2011-06-02-17-00-38-liedown_bed-f4.txt\nAccelerometer-2011-06-02-17-21-57-liedown_bed-m1.txt\nAccelerometer-2011-03-24-10-04-32-pour_water-f1.txt\nAccelerometer-2011-03-24-10-51-12-pour_water-f1.txt\nAccelerometer-2011-03-24-13-30-01-pour_water-f1.txt\nAccelerometer-2011-04-05-18-54-14-pour_water-f1.txt\nAccelerometer-2011-04-11-12-55-26-pour_water-f1.txt\nAccelerometer-2011-05-30-21-05-39-pour_water-f1.txt\nAccelerometer-2011-05-30-21-51-05-pour_water-m2.txt\nAccelerometer-2011-05-31-15-11-25-pour_water-f1.txt\nAccelerometer-2011-05-31-16-34-32-pour_water-f1.txt\nAccelerometer-2011-06-01-14-12-53-pour_water-f1.txt\nAccelerometer-2011-06-01-14-13-29-pour_water-f1.txt\nAccelerometer-2011-06-01-14-16-35-pour_water-f1.txt\nAccelerometer-2011-06-01-14-17-02-pour_water-f1.txt\nAccelerometer-2011-06-01-14-18-36-pour_water-f1.txt\nAccelerometer-2011-06-01-14-25-16-pour_water-f1.txt\nAccelerometer-2011-06-01-14-27-40-pour_water-f1.txt\nAccelerometer-2011-06-01-14-32-38-pour_water-f1.txt\nAccelerometer-2011-06-01-16-46-50-pour_water-f1.txt\nAccelerometer-2011-06-02-16-50-40-pour_water-f4.txt\nAccelerometer-2011-06-02-16-52-30-pour_water-f4.txt\nAccelerometer-2011-06-02-17-04-09-pour_water-f4.txt\nAccelerometer-2011-06-02-17-06-15-pour_water-f4.txt\nAccelerometer-2011-06-02-17-06-44-pour_water-f4.txt\nAccelerometer-2011-06-02-17-23-16-pour_water-m1.txt\nAccelerometer-2011-06-02-17-28-27-pour_water-m1.txt\nAccelerometer-2011-06-02-17-33-30-pour_water-m1.txt\nAccelerometer-2011-06-02-17-45-45-pour_water-m1.txt\nAccelerometer-2011-06-06-09-39-30-pour_water-f1.txt\nAccelerometer-2011-06-06-09-40-34-pour_water-f1.txt\nAccelerometer-2011-06-06-09-42-11-pour_water-f1.txt\nAccelerometer-2011-06-06-09-44-12-pour_water-f1.txt\nAccelerometer-2011-06-06-09-45-45-pour_water-f1.txt\nAccelerometer-2011-06-06-09-46-20-pour_water-f1.txt\nAccelerometer-2011-06-06-09-47-48-pour_water-f1.txt\nAccelerometer-2011-06-06-09-48-59-pour_water-f1.txt\nAccelerometer-2011-06-06-09-49-51-pour_water-f1.txt\nAccelerometer-2011-06-06-09-50-17-pour_water-f1.txt\nAccelerometer-2011-06-06-09-51-53-pour_water-f1.txt\nAccelerometer-2011-06-06-09-55-25-pour_water-f1.txt\nAccelerometer-2011-06-06-09-56-28-pour_water-f1.txt\nAccelerometer-2012-03-23-03-46-21-pour_water-m9.txt\nAccelerometer-2012-03-23-03-54-26-pour_water-m9.txt\nAccelerometer-2012-03-23-03-55-46-pour_water-m9.txt\nAccelerometer-2012-03-26-04-53-59-pour_water-f2.txt\nAccelerometer-2012-03-26-04-55-40-pour_water-f2.txt\nAccelerometer-2012-03-26-05-01-39-pour_water-m3.txt\nAccelerometer-2012-03-26-05-03-27-pour_water-m3.txt\nAccelerometer-2012-05-25-18-29-48-pour_water-f4.txt\n",
                    "name": "stdout"
                },
                {
                    "output_type": "stream",
                    "text": "Accelerometer-2012-05-25-18-31-58-pour_water-f4.txt\nAccelerometer-2012-05-25-18-34-46-pour_water-f4.txt\nAccelerometer-2012-05-25-18-37-06-pour_water-f4.txt\nAccelerometer-2012-05-28-17-41-55-pour_water-m1.txt\nAccelerometer-2012-05-28-17-43-20-pour_water-m1.txt\nAccelerometer-2012-05-28-17-46-43-pour_water-m1.txt\nAccelerometer-2012-05-28-17-49-34-pour_water-m1.txt\nAccelerometer-2012-05-29-16-43-41-pour_water-f2.txt\nAccelerometer-2012-05-29-16-49-00-pour_water-f2.txt\nAccelerometer-2012-05-29-17-10-30-pour_water-m3.txt\nAccelerometer-2012-05-29-17-12-07-pour_water-m3.txt\nAccelerometer-2012-05-29-17-19-55-pour_water-m3.txt\nAccelerometer-2012-05-30-18-26-02-pour_water-f3.txt\nAccelerometer-2012-05-30-18-26-49-pour_water-f3.txt\nAccelerometer-2012-05-30-18-27-15-pour_water-f3.txt\nAccelerometer-2012-05-30-18-27-41-pour_water-f3.txt\nAccelerometer-2012-05-30-19-07-14-pour_water-m4.txt\nAccelerometer-2012-05-30-19-07-43-pour_water-m4.txt\nAccelerometer-2012-05-30-19-08-20-pour_water-m4.txt\nAccelerometer-2012-05-30-19-08-50-pour_water-m4.txt\nAccelerometer-2012-05-30-19-50-42-pour_water-f2.txt\nAccelerometer-2012-05-30-19-52-29-pour_water-f2.txt\nAccelerometer-2012-05-30-19-54-24-pour_water-f2.txt\nAccelerometer-2012-05-30-19-56-40-pour_water-m3.txt\nAccelerometer-2012-05-30-19-57-40-pour_water-m3.txt\nAccelerometer-2012-05-30-19-59-17-pour_water-m3.txt\nAccelerometer-2012-06-07-21-27-46-pour_water-f4.txt\nAccelerometer-2012-06-07-21-28-23-pour_water-f4.txt\nAccelerometer-2012-06-07-21-28-48-pour_water-f4.txt\nAccelerometer-2012-06-07-21-29-09-pour_water-f4.txt\nAccelerometer-2012-06-07-21-29-48-pour_water-f4.txt\nAccelerometer-2012-06-07-21-30-16-pour_water-f4.txt\nAccelerometer-2012-06-07-21-30-37-pour_water-f4.txt\nAccelerometer-2012-06-07-21-31-05-pour_water-f4.txt\nAccelerometer-2012-06-07-21-31-24-pour_water-f4.txt\nAccelerometer-2012-06-07-21-31-48-pour_water-f4.txt\nAccelerometer-2012-06-07-21-32-12-pour_water-f4.txt\nAccelerometer-2012-06-07-21-32-37-pour_water-f4.txt\nAccelerometer-2012-06-07-21-33-21-pour_water-f4.txt\nAccelerometer-2012-06-07-21-33-47-pour_water-f4.txt\nAccelerometer-2012-06-07-21-34-22-pour_water-f4.txt\nAccelerometer-2012-06-07-21-34-47-pour_water-f4.txt\nAccelerometer-2012-06-07-21-35-28-pour_water-f4.txt\nAccelerometer-2012-06-07-21-35-50-pour_water-f4.txt\nAccelerometer-2012-06-09-22-54-40-pour_water-m11.txt\nAccelerometer-2012-06-09-22-55-08-pour_water-m11.txt\nAccelerometer-2012-06-09-22-55-42-pour_water-m11.txt\nAccelerometer-2012-06-09-22-56-17-pour_water-m11.txt\nAccelerometer-2012-06-09-22-56-53-pour_water-m11.txt\nAccelerometer-2012-06-09-22-57-12-pour_water-m11.txt\nAccelerometer-2012-06-09-22-58-08-pour_water-m11.txt\nAccelerometer-2012-06-09-22-58-28-pour_water-m11.txt\nAccelerometer-2011-03-24-09-50-16-sitdown_chair-f1.txt\nAccelerometer-2011-03-24-10-27-33-sitdown_chair-f1.txt\nAccelerometer-2011-03-24-16-09-29-sitdown_chair-f2.txt\nAccelerometer-2011-03-29-09-06-48-sitdown_chair-f1.txt\nAccelerometer-2011-03-29-09-12-27-sitdown_chair-f1.txt\nAccelerometer-2011-04-05-18-22-14-sitdown_chair-f1.txt\nAccelerometer-2011-04-05-18-47-38-sitdown_chair-f1.txt\nAccelerometer-2011-04-08-17-33-10-sitdown_chair-f3.txt\nAccelerometer-2011-04-08-17-34-35-sitdown_chair-f3.txt\nAccelerometer-2011-04-08-18-09-40-sitdown_chair-m4.txt\nAccelerometer-2011-04-11-11-45-28-sitdown_chair-f1.txt\nAccelerometer-2011-04-12-21-42-24-sitdown_chair-m8.txt\nAccelerometer-2011-04-12-21-43-15-sitdown_chair-m8.txt\nAccelerometer-2011-05-30-08-22-28-sitdown_chair-f1.txt\nAccelerometer-2011-05-30-08-31-30-sitdown_chair-f1.txt\nAccelerometer-2011-05-30-09-23-12-sitdown_chair-f1.txt\nAccelerometer-2011-05-30-09-24-48-sitdown_chair-f1.txt\nAccelerometer-2011-05-30-10-21-50-sitdown_chair-m1.txt\nAccelerometer-2011-05-30-10-31-12-sitdown_chair-m1.txt\nAccelerometer-2011-05-30-20-48-57-sitdown_chair-f1.txt\nAccelerometer-2011-05-30-20-49-32-sitdown_chair-f1.txt\nAccelerometer-2011-05-30-20-55-28-sitdown_chair-f1.txt\nAccelerometer-2011-05-30-21-04-13-sitdown_chair-f1.txt\nAccelerometer-2011-05-30-21-33-15-sitdown_chair-m2.txt\nAccelerometer-2011-05-30-21-37-52-sitdown_chair-m2.txt\nAccelerometer-2011-05-30-21-48-01-sitdown_chair-m2.txt\nAccelerometer-2011-05-31-14-53-37-sitdown_chair-f1.txt\nAccelerometer-2011-05-31-14-59-27-sitdown_chair-f1.txt\nAccelerometer-2011-05-31-15-07-32-sitdown_chair-f1.txt\nAccelerometer-2011-05-31-16-22-37-sitdown_chair-f1.txt\nAccelerometer-2011-05-31-16-27-00-sitdown_chair-f1.txt\nAccelerometer-2011-05-31-16-33-27-sitdown_chair-f1.txt\nAccelerometer-2011-06-01-14-37-35-sitdown_chair-f1.txt\nAccelerometer-2011-06-01-14-38-38-sitdown_chair-f1.txt\nAccelerometer-2011-06-01-14-39-48-sitdown_chair-f1.txt\nAccelerometer-2011-06-01-14-40-31-sitdown_chair-f1.txt\nAccelerometer-2011-06-01-14-41-42-sitdown_chair-f1.txt\nAccelerometer-2011-06-01-14-43-55-sitdown_chair-f1.txt\nAccelerometer-2011-06-01-14-45-42-sitdown_chair-f1.txt\nAccelerometer-2011-06-01-14-46-43-sitdown_chair-f1.txt\nAccelerometer-2011-06-01-14-50-18-sitdown_chair-f1.txt\nAccelerometer-2011-06-01-14-51-28-sitdown_chair-f1.txt\nAccelerometer-2011-06-02-16-15-55-sitdown_chair-f1.txt\nAccelerometer-2011-06-02-16-17-10-sitdown_chair-f1.txt\nAccelerometer-2011-06-02-16-21-01-sitdown_chair-f1.txt\nAccelerometer-2011-06-02-16-21-36-sitdown_chair-f1.txt\nAccelerometer-2011-06-02-16-43-56-sitdown_chair-f4.txt\nAccelerometer-2011-06-02-16-44-37-sitdown_chair-f4.txt\nAccelerometer-2011-06-02-16-45-19-sitdown_chair-f4.txt\nAccelerometer-2011-06-02-16-46-07-sitdown_chair-f4.txt\nAccelerometer-2011-06-02-16-46-43-sitdown_chair-f4.txt\nAccelerometer-2011-06-02-16-53-58-sitdown_chair-f4.txt\nAccelerometer-2011-06-02-16-54-34-sitdown_chair-f4.txt\nAccelerometer-2011-06-02-16-55-35-sitdown_chair-f4.txt\nAccelerometer-2011-06-02-17-04-59-sitdown_chair-f4.txt\nAccelerometer-2011-06-02-17-05-36-sitdown_chair-f4.txt\nAccelerometer-2011-06-02-17-25-34-sitdown_chair-m1.txt\nAccelerometer-2011-06-02-17-26-23-sitdown_chair-m1.txt\nAccelerometer-2011-06-02-17-27-18-sitdown_chair-m1.txt\nAccelerometer-2011-06-02-17-32-07-sitdown_chair-m1.txt\nAccelerometer-2011-06-02-17-41-43-sitdown_chair-m1.txt\nAccelerometer-2011-06-02-17-42-45-sitdown_chair-m1.txt\nAccelerometer-2011-06-02-17-44-20-sitdown_chair-m1.txt\nAccelerometer-2011-06-02-17-45-12-sitdown_chair-m1.txt\nAccelerometer-2011-06-06-09-34-12-sitdown_chair-f1.txt\nAccelerometer-2011-06-06-09-35-11-sitdown_chair-f1.txt\nAccelerometer-2011-06-06-09-35-43-sitdown_chair-f1.txt\nAccelerometer-2011-06-06-09-36-06-sitdown_chair-f1.txt\nAccelerometer-2011-12-05-09-39-34-sitdown_chair-f1.txt\nAccelerometer-2011-12-05-09-44-08-sitdown_chair-f1.txt\nAccelerometer-2011-12-05-09-46-34-sitdown_chair-f1.txt\nAccelerometer-2011-12-05-09-48-48-sitdown_chair-f1.txt\nAccelerometer-2011-12-05-09-50-54-sitdown_chair-f1.txt\nAccelerometer-2011-12-05-09-53-32-sitdown_chair-f1.txt\nAccelerometer-2011-12-05-09-58-23-sitdown_chair-f1.txt\nAccelerometer-2011-12-11-08-11-11-sitdown_chair-f4.txt\nAccelerometer-2011-12-11-08-12-14-sitdown_chair-f4.txt\nAccelerometer-2011-12-11-08-13-16-sitdown_chair-f4.txt\nAccelerometer-2011-12-11-08-14-09-sitdown_chair-f4.txt\nAccelerometer-2011-12-11-08-15-21-sitdown_chair-f4.txt\nAccelerometer-2011-12-11-08-16-20-sitdown_chair-f4.txt\nAccelerometer-2011-12-11-08-19-32-sitdown_chair-m2.txt\nAccelerometer-2011-12-11-08-20-24-sitdown_chair-m2.txt\nAccelerometer-2011-12-11-08-21-20-sitdown_chair-m2.txt\nAccelerometer-2011-12-11-08-22-36-sitdown_chair-m2.txt\nAccelerometer-2011-12-11-08-23-42-sitdown_chair-m2.txt\nAccelerometer-2011-12-11-08-24-32-sitdown_chair-m2.txt\nAccelerometer-2012-03-23-03-45-26-sitdown_chair-m9.txt\nAccelerometer-2012-03-23-03-48-40-sitdown_chair-m9.txt\nAccelerometer-2012-03-26-04-54-57-sitdown_chair-f2.txt\nAccelerometer-2012-03-26-04-58-33-sitdown_chair-f2.txt\nAccelerometer-2012-03-26-05-02-58-sitdown_chair-m3.txt\nAccelerometer-2012-03-26-05-04-48-sitdown_chair-m3.txt\nAccelerometer-2012-05-25-18-27-57-sitdown_chair-f4.txt\nAccelerometer-2012-05-25-18-28-46-sitdown_chair-f4.txt\nAccelerometer-2012-05-25-18-33-29-sitdown_chair-f4.txt\nAccelerometer-2012-05-25-18-36-06-sitdown_chair-f4.txt\nAccelerometer-2012-05-28-17-40-02-sitdown_chair-m1.txt\nAccelerometer-2012-05-28-17-41-12-sitdown_chair-m1.txt\nAccelerometer-2012-05-28-17-46-13-sitdown_chair-m1.txt\n",
                    "name": "stdout"
                },
                {
                    "output_type": "stream",
                    "text": "Accelerometer-2011-03-23-10-39-18-standup_chair-f1.txt\nAccelerometer-2011-03-23-10-42-01-standup_chair-f1.txt\nAccelerometer-2011-03-23-10-45-51-standup_chair-f1.txt\nAccelerometer-2011-03-23-10-47-59-standup_chair-f1.txt\nAccelerometer-2011-03-24-09-49-36-standup_chair-f1.txt\nAccelerometer-2011-03-24-10-38-17-standup_chair-f1.txt\nAccelerometer-2011-03-24-11-19-29-standup_chair-f1.txt\nAccelerometer-2011-03-24-16-09-19-standup_chair-f2.txt\nAccelerometer-2011-03-29-09-04-40-standup_chair-f1.txt\nAccelerometer-2011-03-29-09-10-24-standup_chair-f1.txt\nAccelerometer-2011-04-05-18-25-12-standup_chair-f1.txt\nAccelerometer-2011-04-08-17-32-45-standup_chair-f3.txt\nAccelerometer-2011-04-08-17-34-10-standup_chair-f3.txt\nAccelerometer-2011-04-08-18-09-06-standup_chair-m4.txt\nAccelerometer-2011-04-11-11-48-09-standup_chair-f1.txt\nAccelerometer-2011-04-11-13-24-10-standup_chair-f1.txt\nAccelerometer-2011-04-12-21-42-53-standup_chair-m8.txt\nAccelerometer-2011-04-12-21-45-21-standup_chair-m8.txt\nAccelerometer-2011-05-30-08-24-19-standup_chair-f1.txt\nAccelerometer-2011-05-30-08-32-03-standup_chair-f1.txt\nAccelerometer-2011-05-30-09-24-04-standup_chair-f1.txt\nAccelerometer-2011-05-30-09-25-14-standup_chair-f1.txt\nAccelerometer-2011-05-30-10-23-55-standup_chair-m1.txt\nAccelerometer-2011-05-30-10-31-41-standup_chair-m1.txt\nAccelerometer-2011-05-30-20-50-04-standup_chair-f1.txt\nAccelerometer-2011-05-30-20-50-30-standup_chair-f1.txt\nAccelerometer-2011-05-30-20-56-05-standup_chair-f1.txt\nAccelerometer-2011-05-30-21-07-51-standup_chair-f1.txt\nAccelerometer-2011-05-30-21-33-37-standup_chair-m2.txt\nAccelerometer-2011-05-30-21-38-19-standup_chair-m2.txt\nAccelerometer-2011-05-30-21-52-55-standup_chair-m2.txt\nAccelerometer-2011-05-31-14-54-09-standup_chair-f1.txt\nAccelerometer-2011-05-31-14-59-53-standup_chair-f1.txt\nAccelerometer-2011-05-31-15-13-49-standup_chair-f1.txt\nAccelerometer-2011-05-31-16-23-03-standup_chair-f1.txt\nAccelerometer-2011-05-31-16-27-45-standup_chair-f1.txt\nAccelerometer-2011-05-31-16-38-19-standup_chair-f1.txt\nAccelerometer-2011-06-01-14-38-03-standup_chair-f1.txt\nAccelerometer-2011-06-01-14-39-38-standup_chair-f1.txt\nAccelerometer-2011-06-01-14-40-19-standup_chair-f1.txt\nAccelerometer-2011-06-01-14-41-32-standup_chair-f1.txt\nAccelerometer-2011-06-01-14-43-42-standup_chair-f1.txt\nAccelerometer-2011-06-01-14-45-33-standup_chair-f1.txt\nAccelerometer-2011-06-01-14-46-35-standup_chair-f1.txt\nAccelerometer-2011-06-01-14-50-10-standup_chair-f1.txt\nAccelerometer-2011-06-01-14-51-21-standup_chair-f1.txt\nAccelerometer-2011-06-01-14-52-02-standup_chair-f1.txt\nAccelerometer-2011-06-02-16-43-22-standup_chair-f4.txt\nAccelerometer-2011-06-02-16-44-18-standup_chair-f4.txt\nAccelerometer-2011-06-02-16-44-59-standup_chair-f4.txt\nAccelerometer-2011-06-02-16-45-48-standup_chair-f4.txt\nAccelerometer-2011-06-02-16-46-25-standup_chair-f4.txt\nAccelerometer-2011-06-02-16-53-39-standup_chair-f4.txt\nAccelerometer-2011-06-02-16-54-15-standup_chair-f4.txt\nAccelerometer-2011-06-02-16-55-12-standup_chair-f4.txt\nAccelerometer-2011-06-02-17-04-40-standup_chair-f4.txt\nAccelerometer-2011-06-02-17-05-17-standup_chair-f4.txt\nAccelerometer-2011-06-02-17-25-13-standup_chair-m1.txt\nAccelerometer-2011-06-02-17-26-02-standup_chair-m1.txt\nAccelerometer-2011-06-02-17-26-55-standup_chair-m1.txt\nAccelerometer-2011-06-02-17-31-39-standup_chair-m1.txt\nAccelerometer-2011-06-02-17-41-11-standup_chair-m1.txt\nAccelerometer-2011-06-02-17-42-24-standup_chair-m1.txt\nAccelerometer-2011-06-02-17-43-41-standup_chair-m1.txt\nAccelerometer-2011-06-02-17-44-52-standup_chair-m1.txt\nAccelerometer-2011-12-05-09-38-00-standup_chair-f1.txt\nAccelerometer-2011-12-05-09-40-57-standup_chair-f1.txt\nAccelerometer-2011-12-05-09-45-47-standup_chair-f1.txt\nAccelerometer-2011-12-05-09-48-17-standup_chair-f1.txt\nAccelerometer-2011-12-05-09-50-23-standup_chair-f1.txt\nAccelerometer-2011-12-05-09-52-58-standup_chair-f1.txt\nAccelerometer-2011-12-05-09-55-36-standup_chair-f1.txt\nAccelerometer-2011-12-11-08-09-59-standup_chair-f4.txt\nAccelerometer-2011-12-11-08-11-36-standup_chair-f4.txt\nAccelerometer-2011-12-11-08-12-46-standup_chair-f4.txt\nAccelerometer-2011-12-11-08-13-41-standup_chair-f4.txt\nAccelerometer-2011-12-11-08-14-55-standup_chair-f4.txt\nAccelerometer-2011-12-11-08-15-55-standup_chair-f4.txt\nAccelerometer-2011-12-11-08-19-06-standup_chair-m2.txt\nAccelerometer-2011-12-11-08-19-58-standup_chair-m2.txt\nAccelerometer-2011-12-11-08-20-56-standup_chair-m2.txt\nAccelerometer-2011-12-11-08-22-05-standup_chair-m2.txt\nAccelerometer-2011-12-11-08-23-15-standup_chair-m2.txt\nAccelerometer-2011-12-11-08-24-09-standup_chair-m2.txt\nAccelerometer-2012-03-23-03-44-39-standup_chair-m9.txt\nAccelerometer-2012-03-23-03-48-20-standup_chair-m9.txt\nAccelerometer-2012-03-26-04-54-30-standup_chair-f2.txt\nAccelerometer-2012-03-26-04-58-13-standup_chair-f2.txt\nAccelerometer-2012-03-26-05-02-40-standup_chair-m3.txt\nAccelerometer-2012-03-26-05-04-33-standup_chair-m3.txt\nAccelerometer-2012-05-25-18-27-29-standup_chair-f4.txt\nAccelerometer-2012-05-25-18-28-24-standup_chair-f4.txt\nAccelerometer-2012-05-25-18-33-08-standup_chair-f4.txt\nAccelerometer-2012-05-25-18-35-48-standup_chair-f4.txt\nAccelerometer-2012-05-28-17-39-31-standup_chair-m1.txt\nAccelerometer-2012-05-28-17-40-45-standup_chair-m1.txt\nAccelerometer-2012-05-28-17-45-43-standup_chair-m1.txt\nAccelerometer-2012-05-28-17-50-40-standup_chair-m1.txt\nAccelerometer-2012-05-29-16-43-05-standup_chair-f2.txt\nAccelerometer-2012-05-29-16-47-10-standup_chair-f2.txt\nAccelerometer-2012-05-29-17-12-51-standup_chair-m3.txt\nAccelerometer-2012-05-29-17-14-27-standup_chair-m3.txt\nAccelerometer-2011-03-29-09-30-56-use_telephone-f1.txt\nAccelerometer-2011-03-29-09-32-59-use_telephone-f1.txt\nAccelerometer-2011-03-29-09-52-41-use_telephone-f1.txt\nAccelerometer-2011-04-05-18-29-19-use_telephone-f1.txt\nAccelerometer-2011-04-11-11-53-34-use_telephone-f1.txt\nAccelerometer-2011-04-11-11-54-10-use_telephone-f1.txt\nAccelerometer-2011-05-30-08-27-44-use_telephone-f1.txt\nAccelerometer-2011-05-30-09-34-12-use_telephone-f1.txt\nAccelerometer-2011-05-30-10-28-13-use_telephone-m1.txt\nAccelerometer-2011-05-30-21-00-40-use_telephone-f1.txt\nAccelerometer-2011-05-30-21-43-16-use_telephone-m2.txt\nAccelerometer-2011-05-31-15-03-53-use_telephone-f1.txt\nAccelerometer-2011-05-31-16-31-11-use_telephone-f1.txt\n",
                    "name": "stdout"
                }
            ]
        },
        {
            "metadata": {},
            "cell_type": "code",
            "source": "type(tmp_df)\ntmp_df.rdd.take(40)",
            "execution_count": 9,
            "outputs": [
                {
                    "output_type": "execute_result",
                    "execution_count": 9,
                    "data": {
                        "text/plain": "[Row(x=26, y=43, z=49, class='Use_telephone', source='Accelerometer-2011-05-31-16-31-11-use_telephone-f1.txt'),\n Row(x=26, y=43, z=49, class='Use_telephone', source='Accelerometer-2011-05-31-16-31-11-use_telephone-f1.txt'),\n Row(x=25, y=45, z=49, class='Use_telephone', source='Accelerometer-2011-05-31-16-31-11-use_telephone-f1.txt'),\n Row(x=26, y=43, z=48, class='Use_telephone', source='Accelerometer-2011-05-31-16-31-11-use_telephone-f1.txt'),\n Row(x=26, y=45, z=48, class='Use_telephone', source='Accelerometer-2011-05-31-16-31-11-use_telephone-f1.txt'),\n Row(x=28, y=45, z=48, class='Use_telephone', source='Accelerometer-2011-05-31-16-31-11-use_telephone-f1.txt'),\n Row(x=27, y=45, z=48, class='Use_telephone', source='Accelerometer-2011-05-31-16-31-11-use_telephone-f1.txt'),\n Row(x=25, y=43, z=48, class='Use_telephone', source='Accelerometer-2011-05-31-16-31-11-use_telephone-f1.txt'),\n Row(x=27, y=43, z=49, class='Use_telephone', source='Accelerometer-2011-05-31-16-31-11-use_telephone-f1.txt'),\n Row(x=27, y=44, z=49, class='Use_telephone', source='Accelerometer-2011-05-31-16-31-11-use_telephone-f1.txt'),\n Row(x=25, y=45, z=50, class='Use_telephone', source='Accelerometer-2011-05-31-16-31-11-use_telephone-f1.txt'),\n Row(x=27, y=44, z=49, class='Use_telephone', source='Accelerometer-2011-05-31-16-31-11-use_telephone-f1.txt'),\n Row(x=26, y=43, z=49, class='Use_telephone', source='Accelerometer-2011-05-31-16-31-11-use_telephone-f1.txt'),\n Row(x=26, y=44, z=49, class='Use_telephone', source='Accelerometer-2011-05-31-16-31-11-use_telephone-f1.txt'),\n Row(x=25, y=44, z=49, class='Use_telephone', source='Accelerometer-2011-05-31-16-31-11-use_telephone-f1.txt'),\n Row(x=24, y=41, z=52, class='Use_telephone', source='Accelerometer-2011-05-31-16-31-11-use_telephone-f1.txt'),\n Row(x=25, y=40, z=52, class='Use_telephone', source='Accelerometer-2011-05-31-16-31-11-use_telephone-f1.txt'),\n Row(x=25, y=44, z=53, class='Use_telephone', source='Accelerometer-2011-05-31-16-31-11-use_telephone-f1.txt'),\n Row(x=25, y=53, z=57, class='Use_telephone', source='Accelerometer-2011-05-31-16-31-11-use_telephone-f1.txt'),\n Row(x=27, y=50, z=53, class='Use_telephone', source='Accelerometer-2011-05-31-16-31-11-use_telephone-f1.txt'),\n Row(x=30, y=51, z=54, class='Use_telephone', source='Accelerometer-2011-05-31-16-31-11-use_telephone-f1.txt'),\n Row(x=33, y=48, z=55, class='Use_telephone', source='Accelerometer-2011-05-31-16-31-11-use_telephone-f1.txt'),\n Row(x=30, y=51, z=53, class='Use_telephone', source='Accelerometer-2011-05-31-16-31-11-use_telephone-f1.txt'),\n Row(x=30, y=51, z=50, class='Use_telephone', source='Accelerometer-2011-05-31-16-31-11-use_telephone-f1.txt'),\n Row(x=31, y=45, z=49, class='Use_telephone', source='Accelerometer-2011-05-31-16-31-11-use_telephone-f1.txt'),\n Row(x=31, y=49, z=46, class='Use_telephone', source='Accelerometer-2011-05-31-16-31-11-use_telephone-f1.txt'),\n Row(x=31, y=41, z=46, class='Use_telephone', source='Accelerometer-2011-05-31-16-31-11-use_telephone-f1.txt'),\n Row(x=33, y=41, z=45, class='Use_telephone', source='Accelerometer-2011-05-31-16-31-11-use_telephone-f1.txt'),\n Row(x=34, y=39, z=42, class='Use_telephone', source='Accelerometer-2011-05-31-16-31-11-use_telephone-f1.txt'),\n Row(x=33, y=39, z=42, class='Use_telephone', source='Accelerometer-2011-05-31-16-31-11-use_telephone-f1.txt'),\n Row(x=31, y=39, z=40, class='Use_telephone', source='Accelerometer-2011-05-31-16-31-11-use_telephone-f1.txt'),\n Row(x=27, y=46, z=43, class='Use_telephone', source='Accelerometer-2011-05-31-16-31-11-use_telephone-f1.txt'),\n Row(x=26, y=46, z=47, class='Use_telephone', source='Accelerometer-2011-05-31-16-31-11-use_telephone-f1.txt'),\n Row(x=25, y=36, z=44, class='Use_telephone', source='Accelerometer-2011-05-31-16-31-11-use_telephone-f1.txt'),\n Row(x=23, y=33, z=51, class='Use_telephone', source='Accelerometer-2011-05-31-16-31-11-use_telephone-f1.txt'),\n Row(x=22, y=27, z=49, class='Use_telephone', source='Accelerometer-2011-05-31-16-31-11-use_telephone-f1.txt'),\n Row(x=24, y=27, z=51, class='Use_telephone', source='Accelerometer-2011-05-31-16-31-11-use_telephone-f1.txt'),\n Row(x=23, y=35, z=53, class='Use_telephone', source='Accelerometer-2011-05-31-16-31-11-use_telephone-f1.txt'),\n Row(x=23, y=29, z=49, class='Use_telephone', source='Accelerometer-2011-05-31-16-31-11-use_telephone-f1.txt'),\n Row(x=25, y=25, z=51, class='Use_telephone', source='Accelerometer-2011-05-31-16-31-11-use_telephone-f1.txt')]"
                    },
                    "metadata": {}
                }
            ]
        },
        {
            "metadata": {},
            "cell_type": "code",
            "source": "df.show()",
            "execution_count": 37,
            "outputs": [
                {
                    "output_type": "stream",
                    "text": "+---+---+---+-----------+--------------------+\n|  x|  y|  z|      class|              source|\n+---+---+---+-----------+--------------------+\n| 22| 49| 35|Brush_teeth|Accelerometer-201...|\n| 22| 49| 35|Brush_teeth|Accelerometer-201...|\n| 22| 52| 35|Brush_teeth|Accelerometer-201...|\n| 22| 52| 35|Brush_teeth|Accelerometer-201...|\n| 21| 52| 34|Brush_teeth|Accelerometer-201...|\n| 22| 51| 34|Brush_teeth|Accelerometer-201...|\n| 20| 50| 35|Brush_teeth|Accelerometer-201...|\n| 22| 52| 34|Brush_teeth|Accelerometer-201...|\n| 22| 50| 34|Brush_teeth|Accelerometer-201...|\n| 22| 51| 35|Brush_teeth|Accelerometer-201...|\n| 21| 51| 33|Brush_teeth|Accelerometer-201...|\n| 20| 50| 34|Brush_teeth|Accelerometer-201...|\n| 21| 49| 33|Brush_teeth|Accelerometer-201...|\n| 21| 49| 33|Brush_teeth|Accelerometer-201...|\n| 20| 51| 35|Brush_teeth|Accelerometer-201...|\n| 18| 49| 34|Brush_teeth|Accelerometer-201...|\n| 19| 48| 34|Brush_teeth|Accelerometer-201...|\n| 16| 53| 34|Brush_teeth|Accelerometer-201...|\n| 18| 52| 35|Brush_teeth|Accelerometer-201...|\n| 18| 51| 32|Brush_teeth|Accelerometer-201...|\n+---+---+---+-----------+--------------------+\nonly showing top 20 rows\n\n",
                    "name": "stdout"
                }
            ]
        },
        {
            "metadata": {},
            "cell_type": "code",
            "source": "from pyspark.ml.feature import StringIndexer # This will do one hot encoding\nindexer = StringIndexer(inputCol = 'class',outputCol = 'classindex')\nindexed = indexer.fit(df).transform(df)\n",
            "execution_count": 10,
            "outputs": []
        },
        {
            "metadata": {},
            "cell_type": "code",
            "source": "indexed.show()",
            "execution_count": 11,
            "outputs": [
                {
                    "output_type": "stream",
                    "text": "+---+---+---+-----------+--------------------+----------+\n|  x|  y|  z|      class|              source|classindex|\n+---+---+---+-----------+--------------------+----------+\n| 22| 49| 35|Brush_teeth|Accelerometer-201...|       5.0|\n| 22| 49| 35|Brush_teeth|Accelerometer-201...|       5.0|\n| 22| 52| 35|Brush_teeth|Accelerometer-201...|       5.0|\n| 22| 52| 35|Brush_teeth|Accelerometer-201...|       5.0|\n| 21| 52| 34|Brush_teeth|Accelerometer-201...|       5.0|\n| 22| 51| 34|Brush_teeth|Accelerometer-201...|       5.0|\n| 20| 50| 35|Brush_teeth|Accelerometer-201...|       5.0|\n| 22| 52| 34|Brush_teeth|Accelerometer-201...|       5.0|\n| 22| 50| 34|Brush_teeth|Accelerometer-201...|       5.0|\n| 22| 51| 35|Brush_teeth|Accelerometer-201...|       5.0|\n| 21| 51| 33|Brush_teeth|Accelerometer-201...|       5.0|\n| 20| 50| 34|Brush_teeth|Accelerometer-201...|       5.0|\n| 21| 49| 33|Brush_teeth|Accelerometer-201...|       5.0|\n| 21| 49| 33|Brush_teeth|Accelerometer-201...|       5.0|\n| 20| 51| 35|Brush_teeth|Accelerometer-201...|       5.0|\n| 18| 49| 34|Brush_teeth|Accelerometer-201...|       5.0|\n| 19| 48| 34|Brush_teeth|Accelerometer-201...|       5.0|\n| 16| 53| 34|Brush_teeth|Accelerometer-201...|       5.0|\n| 18| 52| 35|Brush_teeth|Accelerometer-201...|       5.0|\n| 18| 51| 32|Brush_teeth|Accelerometer-201...|       5.0|\n+---+---+---+-----------+--------------------+----------+\nonly showing top 20 rows\n\n",
                    "name": "stdout"
                }
            ]
        },
        {
            "metadata": {},
            "cell_type": "code",
            "source": "from pyspark.ml.feature import OneHotEncoder\n",
            "execution_count": 12,
            "outputs": []
        },
        {
            "metadata": {},
            "cell_type": "code",
            "source": "encoder = OneHotEncoder(inputCol = 'classindex', outputCol = 'categoryVec')\nencoded = encoder.transform(indexed) #note the encoder needs only transform function \nencoded.show()",
            "execution_count": 13,
            "outputs": [
                {
                    "output_type": "stream",
                    "text": "+---+---+---+-----------+--------------------+----------+--------------+\n|  x|  y|  z|      class|              source|classindex|   categoryVec|\n+---+---+---+-----------+--------------------+----------+--------------+\n| 22| 49| 35|Brush_teeth|Accelerometer-201...|       5.0|(12,[5],[1.0])|\n| 22| 49| 35|Brush_teeth|Accelerometer-201...|       5.0|(12,[5],[1.0])|\n| 22| 52| 35|Brush_teeth|Accelerometer-201...|       5.0|(12,[5],[1.0])|\n| 22| 52| 35|Brush_teeth|Accelerometer-201...|       5.0|(12,[5],[1.0])|\n| 21| 52| 34|Brush_teeth|Accelerometer-201...|       5.0|(12,[5],[1.0])|\n| 22| 51| 34|Brush_teeth|Accelerometer-201...|       5.0|(12,[5],[1.0])|\n| 20| 50| 35|Brush_teeth|Accelerometer-201...|       5.0|(12,[5],[1.0])|\n| 22| 52| 34|Brush_teeth|Accelerometer-201...|       5.0|(12,[5],[1.0])|\n| 22| 50| 34|Brush_teeth|Accelerometer-201...|       5.0|(12,[5],[1.0])|\n| 22| 51| 35|Brush_teeth|Accelerometer-201...|       5.0|(12,[5],[1.0])|\n| 21| 51| 33|Brush_teeth|Accelerometer-201...|       5.0|(12,[5],[1.0])|\n| 20| 50| 34|Brush_teeth|Accelerometer-201...|       5.0|(12,[5],[1.0])|\n| 21| 49| 33|Brush_teeth|Accelerometer-201...|       5.0|(12,[5],[1.0])|\n| 21| 49| 33|Brush_teeth|Accelerometer-201...|       5.0|(12,[5],[1.0])|\n| 20| 51| 35|Brush_teeth|Accelerometer-201...|       5.0|(12,[5],[1.0])|\n| 18| 49| 34|Brush_teeth|Accelerometer-201...|       5.0|(12,[5],[1.0])|\n| 19| 48| 34|Brush_teeth|Accelerometer-201...|       5.0|(12,[5],[1.0])|\n| 16| 53| 34|Brush_teeth|Accelerometer-201...|       5.0|(12,[5],[1.0])|\n| 18| 52| 35|Brush_teeth|Accelerometer-201...|       5.0|(12,[5],[1.0])|\n| 18| 51| 32|Brush_teeth|Accelerometer-201...|       5.0|(12,[5],[1.0])|\n+---+---+---+-----------+--------------------+----------+--------------+\nonly showing top 20 rows\n\n",
                    "name": "stdout"
                }
            ]
        },
        {
            "metadata": {},
            "cell_type": "code",
            "source": "from pyspark.ml.linalg import Vectors\nfrom pyspark.ml.feature import VectorAssembler",
            "execution_count": 15,
            "outputs": []
        },
        {
            "metadata": {},
            "cell_type": "code",
            "source": "vectorassembler = VectorAssembler(inputCols = ['x','y','z'],outputCol = 'features')\n\nvector_assembled = vectorassembler.transform(encoded)\nvector_assembled.show()",
            "execution_count": 16,
            "outputs": [
                {
                    "output_type": "stream",
                    "text": "+---+---+---+-----------+--------------------+----------+--------------+----------------+\n|  x|  y|  z|      class|              source|classindex|   categoryVec|        features|\n+---+---+---+-----------+--------------------+----------+--------------+----------------+\n| 22| 49| 35|Brush_teeth|Accelerometer-201...|       5.0|(12,[5],[1.0])|[22.0,49.0,35.0]|\n| 22| 49| 35|Brush_teeth|Accelerometer-201...|       5.0|(12,[5],[1.0])|[22.0,49.0,35.0]|\n| 22| 52| 35|Brush_teeth|Accelerometer-201...|       5.0|(12,[5],[1.0])|[22.0,52.0,35.0]|\n| 22| 52| 35|Brush_teeth|Accelerometer-201...|       5.0|(12,[5],[1.0])|[22.0,52.0,35.0]|\n| 21| 52| 34|Brush_teeth|Accelerometer-201...|       5.0|(12,[5],[1.0])|[21.0,52.0,34.0]|\n| 22| 51| 34|Brush_teeth|Accelerometer-201...|       5.0|(12,[5],[1.0])|[22.0,51.0,34.0]|\n| 20| 50| 35|Brush_teeth|Accelerometer-201...|       5.0|(12,[5],[1.0])|[20.0,50.0,35.0]|\n| 22| 52| 34|Brush_teeth|Accelerometer-201...|       5.0|(12,[5],[1.0])|[22.0,52.0,34.0]|\n| 22| 50| 34|Brush_teeth|Accelerometer-201...|       5.0|(12,[5],[1.0])|[22.0,50.0,34.0]|\n| 22| 51| 35|Brush_teeth|Accelerometer-201...|       5.0|(12,[5],[1.0])|[22.0,51.0,35.0]|\n| 21| 51| 33|Brush_teeth|Accelerometer-201...|       5.0|(12,[5],[1.0])|[21.0,51.0,33.0]|\n| 20| 50| 34|Brush_teeth|Accelerometer-201...|       5.0|(12,[5],[1.0])|[20.0,50.0,34.0]|\n| 21| 49| 33|Brush_teeth|Accelerometer-201...|       5.0|(12,[5],[1.0])|[21.0,49.0,33.0]|\n| 21| 49| 33|Brush_teeth|Accelerometer-201...|       5.0|(12,[5],[1.0])|[21.0,49.0,33.0]|\n| 20| 51| 35|Brush_teeth|Accelerometer-201...|       5.0|(12,[5],[1.0])|[20.0,51.0,35.0]|\n| 18| 49| 34|Brush_teeth|Accelerometer-201...|       5.0|(12,[5],[1.0])|[18.0,49.0,34.0]|\n| 19| 48| 34|Brush_teeth|Accelerometer-201...|       5.0|(12,[5],[1.0])|[19.0,48.0,34.0]|\n| 16| 53| 34|Brush_teeth|Accelerometer-201...|       5.0|(12,[5],[1.0])|[16.0,53.0,34.0]|\n| 18| 52| 35|Brush_teeth|Accelerometer-201...|       5.0|(12,[5],[1.0])|[18.0,52.0,35.0]|\n| 18| 51| 32|Brush_teeth|Accelerometer-201...|       5.0|(12,[5],[1.0])|[18.0,51.0,32.0]|\n+---+---+---+-----------+--------------------+----------+--------------+----------------+\nonly showing top 20 rows\n\n",
                    "name": "stdout"
                }
            ]
        },
        {
            "metadata": {},
            "cell_type": "code",
            "source": "# Lets Normalize the data, in this case it may not be necessary, but it does not hurt to normalize.\nfrom pyspark.ml.feature import Normalizer\nnormalizer = Normalizer(inputCol = 'features',outputCol = 'features_normalized',p=1.0)\nnormalized = normalizer.transform(vector_assembled)\nnormalized.show()",
            "execution_count": 17,
            "outputs": [
                {
                    "output_type": "stream",
                    "text": "+---+---+---+-----------+--------------------+----------+--------------+----------------+--------------------+\n|  x|  y|  z|      class|              source|classindex|   categoryVec|        features| features_normalized|\n+---+---+---+-----------+--------------------+----------+--------------+----------------+--------------------+\n| 22| 49| 35|Brush_teeth|Accelerometer-201...|       5.0|(12,[5],[1.0])|[22.0,49.0,35.0]|[0.20754716981132...|\n| 22| 49| 35|Brush_teeth|Accelerometer-201...|       5.0|(12,[5],[1.0])|[22.0,49.0,35.0]|[0.20754716981132...|\n| 22| 52| 35|Brush_teeth|Accelerometer-201...|       5.0|(12,[5],[1.0])|[22.0,52.0,35.0]|[0.20183486238532...|\n| 22| 52| 35|Brush_teeth|Accelerometer-201...|       5.0|(12,[5],[1.0])|[22.0,52.0,35.0]|[0.20183486238532...|\n| 21| 52| 34|Brush_teeth|Accelerometer-201...|       5.0|(12,[5],[1.0])|[21.0,52.0,34.0]|[0.19626168224299...|\n| 22| 51| 34|Brush_teeth|Accelerometer-201...|       5.0|(12,[5],[1.0])|[22.0,51.0,34.0]|[0.20560747663551...|\n| 20| 50| 35|Brush_teeth|Accelerometer-201...|       5.0|(12,[5],[1.0])|[20.0,50.0,35.0]|[0.19047619047619...|\n| 22| 52| 34|Brush_teeth|Accelerometer-201...|       5.0|(12,[5],[1.0])|[22.0,52.0,34.0]|[0.20370370370370...|\n| 22| 50| 34|Brush_teeth|Accelerometer-201...|       5.0|(12,[5],[1.0])|[22.0,50.0,34.0]|[0.20754716981132...|\n| 22| 51| 35|Brush_teeth|Accelerometer-201...|       5.0|(12,[5],[1.0])|[22.0,51.0,35.0]|[0.20370370370370...|\n| 21| 51| 33|Brush_teeth|Accelerometer-201...|       5.0|(12,[5],[1.0])|[21.0,51.0,33.0]|[0.2,0.4857142857...|\n| 20| 50| 34|Brush_teeth|Accelerometer-201...|       5.0|(12,[5],[1.0])|[20.0,50.0,34.0]|[0.19230769230769...|\n| 21| 49| 33|Brush_teeth|Accelerometer-201...|       5.0|(12,[5],[1.0])|[21.0,49.0,33.0]|[0.20388349514563...|\n| 21| 49| 33|Brush_teeth|Accelerometer-201...|       5.0|(12,[5],[1.0])|[21.0,49.0,33.0]|[0.20388349514563...|\n| 20| 51| 35|Brush_teeth|Accelerometer-201...|       5.0|(12,[5],[1.0])|[20.0,51.0,35.0]|[0.18867924528301...|\n| 18| 49| 34|Brush_teeth|Accelerometer-201...|       5.0|(12,[5],[1.0])|[18.0,49.0,34.0]|[0.17821782178217...|\n| 19| 48| 34|Brush_teeth|Accelerometer-201...|       5.0|(12,[5],[1.0])|[19.0,48.0,34.0]|[0.18811881188118...|\n| 16| 53| 34|Brush_teeth|Accelerometer-201...|       5.0|(12,[5],[1.0])|[16.0,53.0,34.0]|[0.15533980582524...|\n| 18| 52| 35|Brush_teeth|Accelerometer-201...|       5.0|(12,[5],[1.0])|[18.0,52.0,35.0]|[0.17142857142857...|\n| 18| 51| 32|Brush_teeth|Accelerometer-201...|       5.0|(12,[5],[1.0])|[18.0,51.0,32.0]|[0.17821782178217...|\n+---+---+---+-----------+--------------------+----------+--------------+----------------+--------------------+\nonly showing top 20 rows\n\n",
                    "name": "stdout"
                }
            ]
        },
        {
            "metadata": {},
            "cell_type": "code",
            "source": "#We had completed the above steps, indexer(indexed the Srting indexes to integer), Vectorassembler(gave us one dense vector),encoder(OneHotEncoder) and \n# finally Normalizer(normalized out input vectors). we can do all this using a pipeline at one go. OS, lets do it\nfrom pyspark.ml import Pipeline\npipeline = Pipeline(stages = [indexer,encoder,vectorassembler,normalizer])\n\n# we will call it a model keeping the convention similar to the one we are going to use in the future\n\nmodel = pipeline.fit(df)\n\npredictions = model.transform(df)\n\npredictions.show()\n#thats the way we will process our data now onwards",
            "execution_count": 19,
            "outputs": [
                {
                    "output_type": "stream",
                    "text": "+---+---+---+-----------+--------------------+----------+--------------+----------------+--------------------+\n|  x|  y|  z|      class|              source|classindex|   categoryVec|        features| features_normalized|\n+---+---+---+-----------+--------------------+----------+--------------+----------------+--------------------+\n| 22| 49| 35|Brush_teeth|Accelerometer-201...|       5.0|(12,[5],[1.0])|[22.0,49.0,35.0]|[0.20754716981132...|\n| 22| 49| 35|Brush_teeth|Accelerometer-201...|       5.0|(12,[5],[1.0])|[22.0,49.0,35.0]|[0.20754716981132...|\n| 22| 52| 35|Brush_teeth|Accelerometer-201...|       5.0|(12,[5],[1.0])|[22.0,52.0,35.0]|[0.20183486238532...|\n| 22| 52| 35|Brush_teeth|Accelerometer-201...|       5.0|(12,[5],[1.0])|[22.0,52.0,35.0]|[0.20183486238532...|\n| 21| 52| 34|Brush_teeth|Accelerometer-201...|       5.0|(12,[5],[1.0])|[21.0,52.0,34.0]|[0.19626168224299...|\n| 22| 51| 34|Brush_teeth|Accelerometer-201...|       5.0|(12,[5],[1.0])|[22.0,51.0,34.0]|[0.20560747663551...|\n| 20| 50| 35|Brush_teeth|Accelerometer-201...|       5.0|(12,[5],[1.0])|[20.0,50.0,35.0]|[0.19047619047619...|\n| 22| 52| 34|Brush_teeth|Accelerometer-201...|       5.0|(12,[5],[1.0])|[22.0,52.0,34.0]|[0.20370370370370...|\n| 22| 50| 34|Brush_teeth|Accelerometer-201...|       5.0|(12,[5],[1.0])|[22.0,50.0,34.0]|[0.20754716981132...|\n| 22| 51| 35|Brush_teeth|Accelerometer-201...|       5.0|(12,[5],[1.0])|[22.0,51.0,35.0]|[0.20370370370370...|\n| 21| 51| 33|Brush_teeth|Accelerometer-201...|       5.0|(12,[5],[1.0])|[21.0,51.0,33.0]|[0.2,0.4857142857...|\n| 20| 50| 34|Brush_teeth|Accelerometer-201...|       5.0|(12,[5],[1.0])|[20.0,50.0,34.0]|[0.19230769230769...|\n| 21| 49| 33|Brush_teeth|Accelerometer-201...|       5.0|(12,[5],[1.0])|[21.0,49.0,33.0]|[0.20388349514563...|\n| 21| 49| 33|Brush_teeth|Accelerometer-201...|       5.0|(12,[5],[1.0])|[21.0,49.0,33.0]|[0.20388349514563...|\n| 20| 51| 35|Brush_teeth|Accelerometer-201...|       5.0|(12,[5],[1.0])|[20.0,51.0,35.0]|[0.18867924528301...|\n| 18| 49| 34|Brush_teeth|Accelerometer-201...|       5.0|(12,[5],[1.0])|[18.0,49.0,34.0]|[0.17821782178217...|\n| 19| 48| 34|Brush_teeth|Accelerometer-201...|       5.0|(12,[5],[1.0])|[19.0,48.0,34.0]|[0.18811881188118...|\n| 16| 53| 34|Brush_teeth|Accelerometer-201...|       5.0|(12,[5],[1.0])|[16.0,53.0,34.0]|[0.15533980582524...|\n| 18| 52| 35|Brush_teeth|Accelerometer-201...|       5.0|(12,[5],[1.0])|[18.0,52.0,35.0]|[0.17142857142857...|\n| 18| 51| 32|Brush_teeth|Accelerometer-201...|       5.0|(12,[5],[1.0])|[18.0,51.0,32.0]|[0.17821782178217...|\n+---+---+---+-----------+--------------------+----------+--------------+----------------+--------------------+\nonly showing top 20 rows\n\n",
                    "name": "stdout"
                }
            ]
        },
        {
            "metadata": {},
            "cell_type": "code",
            "source": "# Now we will drop all the columns except the 'features_normalized' and 'categoryVec'. What we are doing here is, we will train the model with \n#feature_normalized data to have output \"cateoryVec\" which is the class for the associated action. the model, after training should be able to predict\n# movement type once feature_normalized data is passed on as argument. So lets move ahead\ndrop = ['x','y','z','class','source','classindex','features']\ndf_train = predictions.drop('classindex').drop('features').drop('categoryVec').drop('features_normalized')\ndf_train.show()",
            "execution_count": 24,
            "outputs": [
                {
                    "output_type": "stream",
                    "text": "+---+---+---+-----------+--------------------+\n|  x|  y|  z|      class|              source|\n+---+---+---+-----------+--------------------+\n| 22| 49| 35|Brush_teeth|Accelerometer-201...|\n| 22| 49| 35|Brush_teeth|Accelerometer-201...|\n| 22| 52| 35|Brush_teeth|Accelerometer-201...|\n| 22| 52| 35|Brush_teeth|Accelerometer-201...|\n| 21| 52| 34|Brush_teeth|Accelerometer-201...|\n| 22| 51| 34|Brush_teeth|Accelerometer-201...|\n| 20| 50| 35|Brush_teeth|Accelerometer-201...|\n| 22| 52| 34|Brush_teeth|Accelerometer-201...|\n| 22| 50| 34|Brush_teeth|Accelerometer-201...|\n| 22| 51| 35|Brush_teeth|Accelerometer-201...|\n| 21| 51| 33|Brush_teeth|Accelerometer-201...|\n| 20| 50| 34|Brush_teeth|Accelerometer-201...|\n| 21| 49| 33|Brush_teeth|Accelerometer-201...|\n| 21| 49| 33|Brush_teeth|Accelerometer-201...|\n| 20| 51| 35|Brush_teeth|Accelerometer-201...|\n| 18| 49| 34|Brush_teeth|Accelerometer-201...|\n| 19| 48| 34|Brush_teeth|Accelerometer-201...|\n| 16| 53| 34|Brush_teeth|Accelerometer-201...|\n| 18| 52| 35|Brush_teeth|Accelerometer-201...|\n| 18| 51| 32|Brush_teeth|Accelerometer-201...|\n+---+---+---+-----------+--------------------+\nonly showing top 20 rows\n\n",
                    "name": "stdout"
                }
            ]
        },
        {
            "metadata": {},
            "cell_type": "code",
            "source": "df_train.createOrReplaceTempView('df_train')",
            "execution_count": 25,
            "outputs": []
        },
        {
            "metadata": {},
            "cell_type": "code",
            "source": "df_train.show()",
            "execution_count": 32,
            "outputs": [
                {
                    "output_type": "stream",
                    "text": "+---+---+---+-----------+--------------------+\n|  x|  y|  z|      class|              source|\n+---+---+---+-----------+--------------------+\n| 22| 49| 35|Brush_teeth|Accelerometer-201...|\n| 22| 49| 35|Brush_teeth|Accelerometer-201...|\n| 22| 52| 35|Brush_teeth|Accelerometer-201...|\n| 22| 52| 35|Brush_teeth|Accelerometer-201...|\n| 21| 52| 34|Brush_teeth|Accelerometer-201...|\n| 22| 51| 34|Brush_teeth|Accelerometer-201...|\n| 20| 50| 35|Brush_teeth|Accelerometer-201...|\n| 22| 52| 34|Brush_teeth|Accelerometer-201...|\n| 22| 50| 34|Brush_teeth|Accelerometer-201...|\n| 22| 51| 35|Brush_teeth|Accelerometer-201...|\n| 21| 51| 33|Brush_teeth|Accelerometer-201...|\n| 20| 50| 34|Brush_teeth|Accelerometer-201...|\n| 21| 49| 33|Brush_teeth|Accelerometer-201...|\n| 21| 49| 33|Brush_teeth|Accelerometer-201...|\n| 20| 51| 35|Brush_teeth|Accelerometer-201...|\n| 18| 49| 34|Brush_teeth|Accelerometer-201...|\n| 19| 48| 34|Brush_teeth|Accelerometer-201...|\n| 16| 53| 34|Brush_teeth|Accelerometer-201...|\n| 18| 52| 35|Brush_teeth|Accelerometer-201...|\n| 18| 51| 32|Brush_teeth|Accelerometer-201...|\n+---+---+---+-----------+--------------------+\nonly showing top 20 rows\n\n",
                    "name": "stdout"
                }
            ]
        },
        {
            "metadata": {},
            "cell_type": "code",
            "source": "import math\ndf_energy = spark.sql(\"\"\"\n\nselect sqrt(sum(x*x)+sum(y*y)+sum(z*z)) as label, class from df_train group by class\n\"\"\")\ndf_energy.createOrReplaceTempView('df_energy')",
            "execution_count": 34,
            "outputs": []
        },
        {
            "metadata": {},
            "cell_type": "code",
            "source": "df_energy.show()",
            "execution_count": 35,
            "outputs": [
                {
                    "output_type": "stream",
                    "text": "+------------------+--------------+\n|             label|         class|\n+------------------+--------------+\n| 8959.680239829991| Use_telephone|\n| 9737.511232342687| Standup_chair|\n| 12542.96539897962|      Eat_meat|\n|13225.945637269193|     Getup_bed|\n|15003.269043778426|   Drink_glass|\n|14454.885091207056|    Pour_water|\n|10616.408809008817|     Comb_hair|\n|11082.626493751379|  Climb_stairs|\n|10261.338314274606| Sitdown_chair|\n|6783.4063714331605|   Liedown_bed|\n| 7173.493500380411|Descend_stairs|\n| 11785.39634462923|   Brush_teeth|\n| 6071.460120926432|      Eat_soup|\n+------------------+--------------+\n\n",
                    "name": "stdout"
                }
            ]
        },
        {
            "metadata": {},
            "cell_type": "code",
            "source": "df_join = spark.sql(\"\"\"\nselect * from df_train inner join df_energy on df_train.class=df_energy.class\n\"\"\")\ndf_join.show()",
            "execution_count": 36,
            "outputs": [
                {
                    "output_type": "stream",
                    "text": "+---+---+---+-----------+--------------------+-----------------+-----------+\n|  x|  y|  z|      class|              source|            label|      class|\n+---+---+---+-----------+--------------------+-----------------+-----------+\n| 22| 49| 35|Brush_teeth|Accelerometer-201...|11785.39634462923|Brush_teeth|\n| 22| 49| 35|Brush_teeth|Accelerometer-201...|11785.39634462923|Brush_teeth|\n| 22| 52| 35|Brush_teeth|Accelerometer-201...|11785.39634462923|Brush_teeth|\n| 22| 52| 35|Brush_teeth|Accelerometer-201...|11785.39634462923|Brush_teeth|\n| 21| 52| 34|Brush_teeth|Accelerometer-201...|11785.39634462923|Brush_teeth|\n| 22| 51| 34|Brush_teeth|Accelerometer-201...|11785.39634462923|Brush_teeth|\n| 20| 50| 35|Brush_teeth|Accelerometer-201...|11785.39634462923|Brush_teeth|\n| 22| 52| 34|Brush_teeth|Accelerometer-201...|11785.39634462923|Brush_teeth|\n| 22| 50| 34|Brush_teeth|Accelerometer-201...|11785.39634462923|Brush_teeth|\n| 22| 51| 35|Brush_teeth|Accelerometer-201...|11785.39634462923|Brush_teeth|\n| 21| 51| 33|Brush_teeth|Accelerometer-201...|11785.39634462923|Brush_teeth|\n| 20| 50| 34|Brush_teeth|Accelerometer-201...|11785.39634462923|Brush_teeth|\n| 21| 49| 33|Brush_teeth|Accelerometer-201...|11785.39634462923|Brush_teeth|\n| 21| 49| 33|Brush_teeth|Accelerometer-201...|11785.39634462923|Brush_teeth|\n| 20| 51| 35|Brush_teeth|Accelerometer-201...|11785.39634462923|Brush_teeth|\n| 18| 49| 34|Brush_teeth|Accelerometer-201...|11785.39634462923|Brush_teeth|\n| 19| 48| 34|Brush_teeth|Accelerometer-201...|11785.39634462923|Brush_teeth|\n| 16| 53| 34|Brush_teeth|Accelerometer-201...|11785.39634462923|Brush_teeth|\n| 18| 52| 35|Brush_teeth|Accelerometer-201...|11785.39634462923|Brush_teeth|\n| 18| 51| 32|Brush_teeth|Accelerometer-201...|11785.39634462923|Brush_teeth|\n+---+---+---+-----------+--------------------+-----------------+-----------+\nonly showing top 20 rows\n\n",
                    "name": "stdout"
                }
            ]
        },
        {
            "metadata": {},
            "cell_type": "code",
            "source": "from pyspark.ml.linalg import Vectors\nfrom pyspark.ml.feature import VectorAssembler\nfrom pyspark.ml.feature import Normalizer\nfrom pyspark.ml.regression import LinearRegression\nfrom pyspark.ml import Pipeline\n",
            "execution_count": 42,
            "outputs": []
        },
        {
            "metadata": {},
            "cell_type": "code",
            "source": "\nvectorassembler = VectorAssembler(inputCols = ['x','y','z'],outputCol = 'features')\nnormalizer = Normalizer(inputCol = 'features',outputCol = 'features_normalized',p=1.0)\nlr = LinearRegression(maxIter =10, regParam=0.3,elasticNetParam = 0.8)",
            "execution_count": 44,
            "outputs": []
        },
        {
            "metadata": {},
            "cell_type": "code",
            "source": "pipeline = Pipeline(stages=[vectorassembler,normalizer,lr])",
            "execution_count": 45,
            "outputs": []
        },
        {
            "metadata": {},
            "cell_type": "code",
            "source": "model = pipeline.fit(df_join)",
            "execution_count": 46,
            "outputs": []
        },
        {
            "metadata": {},
            "cell_type": "code",
            "source": "model.stages[2].summary.r2",
            "execution_count": 47,
            "outputs": [
                {
                    "output_type": "execute_result",
                    "execution_count": 47,
                    "data": {
                        "text/plain": "0.09123304798487986"
                    },
                    "metadata": {}
                }
            ]
        },
        {
            "metadata": {},
            "cell_type": "code",
            "source": "#Now since we have built a pipeline. Now lets see how we can use large data into our ML models. SystemML sits on top of Spark and performs the same task\n#as that of sci-kit learn and other ML libraries without the constraint of limited storage for model data, as all these models store the ml data into RAM and system ML removes that contraint\n#Install SystemML python package and jar\n# ! pip install --upgrade https://github.com/niketanpansare/future_of_data/blob/master/systemml-1.1.0-SNAPSHOT-python.tar.gz\n! pip install SystemML\n",
            "execution_count": 74,
            "outputs": [
                {
                    "output_type": "stream",
                    "text": "Collecting SystemML\n\u001b[?25l  Downloading https://files.pythonhosted.org/packages/b1/94/62104cb8c526b462cd501c7319926fb81ac9a5668574a0b3407658a506ab/systemml-1.2.0.tar.gz (9.7MB)\n\u001b[K    100% |\u2588\u2588\u2588\u2588\u2588\u2588\u2588\u2588\u2588\u2588\u2588\u2588\u2588\u2588\u2588\u2588\u2588\u2588\u2588\u2588\u2588\u2588\u2588\u2588\u2588\u2588\u2588\u2588\u2588\u2588\u2588\u2588| 9.7MB 1.1MB/s eta 0:00:01\n\u001b[?25hCollecting numpy>=1.8.2 (from SystemML)\n\u001b[?25l  Downloading https://files.pythonhosted.org/packages/93/0b/71ae818646c1a80fbe6776d41f480649523ed31243f1f34d9d7e41d70195/numpy-1.19.0-cp36-cp36m-manylinux2010_x86_64.whl (14.6MB)\n\u001b[K    100% |\u2588\u2588\u2588\u2588\u2588\u2588\u2588\u2588\u2588\u2588\u2588\u2588\u2588\u2588\u2588\u2588\u2588\u2588\u2588\u2588\u2588\u2588\u2588\u2588\u2588\u2588\u2588\u2588\u2588\u2588\u2588\u2588| 14.6MB 1.4MB/s eta 0:00:01\n\u001b[?25hCollecting scipy>=0.15.1 (from SystemML)\n\u001b[?25l  Downloading https://files.pythonhosted.org/packages/06/20/d4410683e4d416a11ebc60138f6d925f571ffcfcc3794baf78fff982c98d/scipy-1.5.0-cp36-cp36m-manylinux1_x86_64.whl (25.9MB)\n\u001b[K    100% |\u2588\u2588\u2588\u2588\u2588\u2588\u2588\u2588\u2588\u2588\u2588\u2588\u2588\u2588\u2588\u2588\u2588\u2588\u2588\u2588\u2588\u2588\u2588\u2588\u2588\u2588\u2588\u2588\u2588\u2588\u2588\u2588| 25.9MB 843kB/s eta 0:00:011\n\u001b[?25hCollecting pandas (from SystemML)\n\u001b[?25l  Downloading https://files.pythonhosted.org/packages/c0/95/cb9820560a2713384ef49060b0087dfa2591c6db6f240215c2bce1f4211c/pandas-1.0.5-cp36-cp36m-manylinux1_x86_64.whl (10.1MB)\n\u001b[K    100% |\u2588\u2588\u2588\u2588\u2588\u2588\u2588\u2588\u2588\u2588\u2588\u2588\u2588\u2588\u2588\u2588\u2588\u2588\u2588\u2588\u2588\u2588\u2588\u2588\u2588\u2588\u2588\u2588\u2588\u2588\u2588\u2588| 10.1MB 1.7MB/s eta 0:00:01\n\u001b[?25hCollecting scikit-learn (from SystemML)\n\u001b[?25l  Downloading https://files.pythonhosted.org/packages/d9/3a/eb8d7bbe28f4787d140bb9df685b7d5bf6115c0e2a969def4027144e98b6/scikit_learn-0.23.1-cp36-cp36m-manylinux1_x86_64.whl (6.8MB)\n\u001b[K    100% |\u2588\u2588\u2588\u2588\u2588\u2588\u2588\u2588\u2588\u2588\u2588\u2588\u2588\u2588\u2588\u2588\u2588\u2588\u2588\u2588\u2588\u2588\u2588\u2588\u2588\u2588\u2588\u2588\u2588\u2588\u2588\u2588| 6.9MB 2.7MB/s eta 0:00:01\n\u001b[?25hCollecting Pillow>=2.0.0 (from SystemML)\n\u001b[?25l  Downloading https://files.pythonhosted.org/packages/e0/50/8e78e6f62ffa50d6ca95c281d5a2819bef66d023ac1b723e253de5bda9c5/Pillow-7.1.2-cp36-cp36m-manylinux1_x86_64.whl (2.1MB)\n\u001b[K    100% |\u2588\u2588\u2588\u2588\u2588\u2588\u2588\u2588\u2588\u2588\u2588\u2588\u2588\u2588\u2588\u2588\u2588\u2588\u2588\u2588\u2588\u2588\u2588\u2588\u2588\u2588\u2588\u2588\u2588\u2588\u2588\u2588| 2.1MB 4.5MB/s eta 0:00:01\n\u001b[?25hCollecting python-dateutil>=2.6.1 (from pandas->SystemML)\n\u001b[?25l  Downloading https://files.pythonhosted.org/packages/d4/70/d60450c3dd48ef87586924207ae8907090de0b306af2bce5d134d78615cb/python_dateutil-2.8.1-py2.py3-none-any.whl (227kB)\n\u001b[K    100% |\u2588\u2588\u2588\u2588\u2588\u2588\u2588\u2588\u2588\u2588\u2588\u2588\u2588\u2588\u2588\u2588\u2588\u2588\u2588\u2588\u2588\u2588\u2588\u2588\u2588\u2588\u2588\u2588\u2588\u2588\u2588\u2588| 235kB 6.4MB/s eta 0:00:01\n\u001b[?25hCollecting pytz>=2017.2 (from pandas->SystemML)\n\u001b[?25l  Downloading https://files.pythonhosted.org/packages/4f/a4/879454d49688e2fad93e59d7d4efda580b783c745fd2ec2a3adf87b0808d/pytz-2020.1-py2.py3-none-any.whl (510kB)\n\u001b[K    100% |\u2588\u2588\u2588\u2588\u2588\u2588\u2588\u2588\u2588\u2588\u2588\u2588\u2588\u2588\u2588\u2588\u2588\u2588\u2588\u2588\u2588\u2588\u2588\u2588\u2588\u2588\u2588\u2588\u2588\u2588\u2588\u2588| 512kB 6.0MB/s eta 0:00:01\n\u001b[?25hCollecting threadpoolctl>=2.0.0 (from scikit-learn->SystemML)\n  Downloading https://files.pythonhosted.org/packages/f7/12/ec3f2e203afa394a149911729357aa48affc59c20e2c1c8297a60f33f133/threadpoolctl-2.1.0-py3-none-any.whl\nCollecting joblib>=0.11 (from scikit-learn->SystemML)\n\u001b[?25l  Downloading https://files.pythonhosted.org/packages/b8/a6/d1a816b89aa1e9e96bcb298eb1ee1854f21662ebc6d55ffa3d7b3b50122b/joblib-0.15.1-py3-none-any.whl (298kB)\n\u001b[K    100% |\u2588\u2588\u2588\u2588\u2588\u2588\u2588\u2588\u2588\u2588\u2588\u2588\u2588\u2588\u2588\u2588\u2588\u2588\u2588\u2588\u2588\u2588\u2588\u2588\u2588\u2588\u2588\u2588\u2588\u2588\u2588\u2588| 307kB 6.6MB/s eta 0:00:01\n\u001b[?25hCollecting six>=1.5 (from python-dateutil>=2.6.1->pandas->SystemML)\n  Downloading https://files.pythonhosted.org/packages/ee/ff/48bde5c0f013094d729fe4b0316ba2a24774b3ff1c52d924a8a4cb04078a/six-1.15.0-py2.py3-none-any.whl\nBuilding wheels for collected packages: SystemML\n  Building wheel for SystemML (setup.py) ... \u001b[?25ldone\n\u001b[?25h  Stored in directory: /home/spark/shared/.cache/pip/wheels/cf/07/79/b3ed6f12afe06b2ab55d60dcfd62e66240f5d8c6088a518177\nSuccessfully built SystemML\n\u001b[31mtensorflow 1.13.1 requires tensorboard<1.14.0,>=1.13.0, which is not installed.\u001b[0m\n\u001b[31mpytest-astropy 0.8.0 requires pytest-cov>=2.0, which is not installed.\u001b[0m\n\u001b[31mpytest-astropy 0.8.0 requires pytest-filter-subpackage>=0.1, which is not installed.\u001b[0m\n\u001b[31mwatson-machine-learning-client-v4 1.0.95 has requirement pandas<=0.25.3, but you'll have pandas 1.0.5 which is incompatible.\u001b[0m\n\u001b[31mpytest-openfiles 0.5.0 has requirement pytest>=4.6, but you'll have pytest 3.10.1 which is incompatible.\u001b[0m\n\u001b[31mpytest-astropy 0.8.0 has requirement pytest>=4.6, but you'll have pytest 3.10.1 which is incompatible.\u001b[0m\nInstalling collected packages: numpy, scipy, six, python-dateutil, pytz, pandas, threadpoolctl, joblib, scikit-learn, Pillow, SystemML\nSuccessfully installed Pillow-7.1.2 SystemML-1.2.0 joblib-0.15.1 numpy-1.19.0 pandas-1.0.5 python-dateutil-2.8.1 pytz-2020.1 scikit-learn-0.23.1 scipy-1.5.0 six-1.15.0 threadpoolctl-2.1.0\n",
                    "name": "stdout"
                }
            ]
        },
        {
            "metadata": {},
            "cell_type": "code",
            "source": "!pip show systemml",
            "execution_count": 75,
            "outputs": [
                {
                    "output_type": "stream",
                    "text": "Name: systemml\r\nVersion: 1.2.0\r\nSummary: Apache SystemML is a distributed and declarative machine learning platform.\r\nHome-page: http://systemml.apache.org/\r\nAuthor: Apache SystemML\r\nAuthor-email: dev@systemml.apache.org\r\nLicense: Apache 2.0\r\nLocation: /home/spark/shared/user-libs/python3.6\r\nRequires: Pillow, scikit-learn, scipy, numpy, pandas\r\nRequired-by: \r\n",
                    "name": "stdout"
                }
            ]
        },
        {
            "metadata": {},
            "cell_type": "code",
            "source": "sc.version",
            "execution_count": 76,
            "outputs": [
                {
                    "output_type": "execute_result",
                    "execution_count": 76,
                    "data": {
                        "text/plain": "'2.4.4'"
                    },
                    "metadata": {}
                }
            ]
        },
        {
            "metadata": {},
            "cell_type": "code",
            "source": "",
            "execution_count": 77,
            "outputs": [
                {
                    "output_type": "stream",
                    "text": "Exception ignored in: <object repr() failed>\nTraceback (most recent call last):\n  File \"/opt/ibm/spark/python/pyspark/ml/wrapper.py\", line 40, in __del__\n    if SparkContext._active_spark_context and self._java_obj is not None:\nAttributeError: 'StringIndexer' object has no attribute '_java_obj'\nException ignored in: <object repr() failed>\nTraceback (most recent call last):\n  File \"/opt/ibm/spark/python/pyspark/ml/wrapper.py\", line 40, in __del__\n    if SparkContext._active_spark_context and self._java_obj is not None:\nAttributeError: 'VectorAssembler' object has no attribute '_java_obj'\n",
                    "name": "stderr"
                }
            ]
        },
        {
            "metadata": {},
            "cell_type": "code",
            "source": "# from systemml import MLContext, dml\nfrom systemml import MLContext, dml, dmlFromResource, dmlFromFile, dmlFromUrl\nml = MLContext(sc)\nprint(ml.info())\n",
            "execution_count": 80,
            "outputs": [
                {
                    "output_type": "stream",
                    "text": "Archiver-Version: Plexus Archiver\nArtifact-Id: systemml\nBuild-Jdk: 1.8.0_121\nBuild-Time: 2017-04-19 21:45:10 UTC\nBuilt-By: asurve\nCreated-By: Apache Maven 3.3.9\nGroup-Id: org.apache.systemml\nMain-Class: org.apache.sysml.api.DMLScript\nManifest-Version: 1.0\nMinimum-Recommended-Spark-Version: 2.1.0\nVersion: 0.14.0-incubating\n\n",
                    "name": "stdout"
                }
            ]
        },
        {
            "metadata": {},
            "cell_type": "code",
            "source": "script = dml('''\nprint('hello world');\n''')\nml.execute(script)",
            "execution_count": 83,
            "outputs": [
                {
                    "output_type": "error",
                    "ename": "TypeError",
                    "evalue": "'JavaPackage' object is not callable",
                    "traceback": [
                        "\u001b[0;31m---------------------------------------------------------------------------\u001b[0m",
                        "\u001b[0;31mTypeError\u001b[0m                                 Traceback (most recent call last)",
                        "\u001b[0;32m<ipython-input-83-e1f3fa0444cb>\u001b[0m in \u001b[0;36m<module>\u001b[0;34m()\u001b[0m\n\u001b[1;32m      2\u001b[0m \u001b[0mprint\u001b[0m\u001b[0;34m(\u001b[0m\u001b[0;34m'hello world'\u001b[0m\u001b[0;34m)\u001b[0m\u001b[0;34m;\u001b[0m\u001b[0;34m\u001b[0m\u001b[0;34m\u001b[0m\u001b[0m\n\u001b[1;32m      3\u001b[0m ''')\n\u001b[0;32m----> 4\u001b[0;31m \u001b[0mml\u001b[0m\u001b[0;34m.\u001b[0m\u001b[0mexecute\u001b[0m\u001b[0;34m(\u001b[0m\u001b[0mscript\u001b[0m\u001b[0;34m)\u001b[0m\u001b[0;34m\u001b[0m\u001b[0;34m\u001b[0m\u001b[0m\n\u001b[0m",
                        "\u001b[0;32m/home/spark/shared/user-libs/python3.6/systemml/mlcontext.py\u001b[0m in \u001b[0;36mexecute\u001b[0;34m(self, script)\u001b[0m\n\u001b[1;32m    662\u001b[0m         \u001b[0;32mglobal\u001b[0m \u001b[0mdefault_jvm_stdout\u001b[0m\u001b[0;34m,\u001b[0m \u001b[0mdefault_jvm_stdout_parallel_flush\u001b[0m\u001b[0;34m\u001b[0m\u001b[0;34m\u001b[0m\u001b[0m\n\u001b[1;32m    663\u001b[0m         \u001b[0;32mif\u001b[0m \u001b[0mdefault_jvm_stdout\u001b[0m\u001b[0;34m:\u001b[0m\u001b[0;34m\u001b[0m\u001b[0;34m\u001b[0m\u001b[0m\n\u001b[0;32m--> 664\u001b[0;31m             \u001b[0;32mwith\u001b[0m \u001b[0mjvm_stdout\u001b[0m\u001b[0;34m(\u001b[0m\u001b[0mparallel_flush\u001b[0m\u001b[0;34m=\u001b[0m\u001b[0mdefault_jvm_stdout_parallel_flush\u001b[0m\u001b[0;34m)\u001b[0m\u001b[0;34m:\u001b[0m\u001b[0;34m\u001b[0m\u001b[0;34m\u001b[0m\u001b[0m\n\u001b[0m\u001b[1;32m    665\u001b[0m                 \u001b[0;32mreturn\u001b[0m \u001b[0mMLResults\u001b[0m\u001b[0;34m(\u001b[0m\u001b[0mself\u001b[0m\u001b[0;34m.\u001b[0m\u001b[0m_ml\u001b[0m\u001b[0;34m.\u001b[0m\u001b[0mexecute\u001b[0m\u001b[0;34m(\u001b[0m\u001b[0mscript_java\u001b[0m\u001b[0;34m)\u001b[0m\u001b[0;34m,\u001b[0m \u001b[0mself\u001b[0m\u001b[0;34m.\u001b[0m\u001b[0m_sc\u001b[0m\u001b[0;34m)\u001b[0m\u001b[0;34m\u001b[0m\u001b[0;34m\u001b[0m\u001b[0m\n\u001b[1;32m    666\u001b[0m         \u001b[0;32melse\u001b[0m\u001b[0;34m:\u001b[0m\u001b[0;34m\u001b[0m\u001b[0;34m\u001b[0m\u001b[0m\n",
                        "\u001b[0;32m/home/spark/shared/user-libs/python3.6/systemml/classloader.py\u001b[0m in \u001b[0;36m__init__\u001b[0;34m(self, parallel_flush)\u001b[0m\n\u001b[1;32m     89\u001b[0m     \"\"\"\n\u001b[1;32m     90\u001b[0m     \u001b[0;32mdef\u001b[0m \u001b[0m__init__\u001b[0m\u001b[0;34m(\u001b[0m\u001b[0mself\u001b[0m\u001b[0;34m,\u001b[0m \u001b[0mparallel_flush\u001b[0m\u001b[0;34m=\u001b[0m\u001b[0;32mFalse\u001b[0m\u001b[0;34m)\u001b[0m\u001b[0;34m:\u001b[0m\u001b[0;34m\u001b[0m\u001b[0;34m\u001b[0m\u001b[0m\n\u001b[0;32m---> 91\u001b[0;31m         \u001b[0mself\u001b[0m\u001b[0;34m.\u001b[0m\u001b[0mutil\u001b[0m \u001b[0;34m=\u001b[0m \u001b[0mget_spark_context\u001b[0m\u001b[0;34m(\u001b[0m\u001b[0;34m)\u001b[0m\u001b[0;34m.\u001b[0m\u001b[0m_jvm\u001b[0m\u001b[0;34m.\u001b[0m\u001b[0morg\u001b[0m\u001b[0;34m.\u001b[0m\u001b[0mapache\u001b[0m\u001b[0;34m.\u001b[0m\u001b[0msysml\u001b[0m\u001b[0;34m.\u001b[0m\u001b[0mapi\u001b[0m\u001b[0;34m.\u001b[0m\u001b[0mml\u001b[0m\u001b[0;34m.\u001b[0m\u001b[0mUtils\u001b[0m\u001b[0;34m(\u001b[0m\u001b[0;34m)\u001b[0m\u001b[0;34m\u001b[0m\u001b[0;34m\u001b[0m\u001b[0m\n\u001b[0m\u001b[1;32m     92\u001b[0m         \u001b[0mself\u001b[0m\u001b[0;34m.\u001b[0m\u001b[0mparallel_flush\u001b[0m \u001b[0;34m=\u001b[0m \u001b[0mparallel_flush\u001b[0m\u001b[0;34m\u001b[0m\u001b[0;34m\u001b[0m\u001b[0m\n\u001b[1;32m     93\u001b[0m         \u001b[0mself\u001b[0m\u001b[0;34m.\u001b[0m\u001b[0mt\u001b[0m \u001b[0;34m=\u001b[0m \u001b[0mthreading\u001b[0m\u001b[0;34m.\u001b[0m\u001b[0mThread\u001b[0m\u001b[0;34m(\u001b[0m\u001b[0mtarget\u001b[0m\u001b[0;34m=\u001b[0m\u001b[0mself\u001b[0m\u001b[0;34m.\u001b[0m\u001b[0mflush_stdout\u001b[0m\u001b[0;34m)\u001b[0m\u001b[0;34m\u001b[0m\u001b[0;34m\u001b[0m\u001b[0m\n",
                        "\u001b[0;31mTypeError\u001b[0m: 'JavaPackage' object is not callable"
                    ]
                }
            ]
        },
        {
            "metadata": {},
            "cell_type": "code",
            "source": "",
            "execution_count": null,
            "outputs": []
        }
    ],
    "metadata": {
        "kernelspec": {
            "name": "python36",
            "display_name": "Python 3.6 with Spark",
            "language": "python3"
        },
        "language_info": {
            "mimetype": "text/x-python",
            "nbconvert_exporter": "python",
            "name": "python",
            "pygments_lexer": "ipython3",
            "version": "3.6.8",
            "file_extension": ".py",
            "codemirror_mode": {
                "version": 3,
                "name": "ipython"
            }
        }
    },
    "nbformat": 4,
    "nbformat_minor": 1
}