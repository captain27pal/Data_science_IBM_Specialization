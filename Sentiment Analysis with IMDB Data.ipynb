{
    "cells": [
        {
            "metadata": {},
            "cell_type": "code",
            "source": "from keras.preprocessing import sequence\nfrom keras.layers import Dense, Embedding, LSTM\nfrom keras.datasets import imdb\nfrom keras.models import Sequential",
            "execution_count": 1,
            "outputs": [
                {
                    "output_type": "stream",
                    "text": "Using TensorFlow backend.\n",
                    "name": "stderr"
                }
            ]
        },
        {
            "metadata": {},
            "cell_type": "code",
            "source": "# This is going to be a very simple model. just wanted to play around with the IMDB dataset. therefore, no regularization or optimization methods are\n# implemented in this model. Thererfore, I am not expecting a very good accuracy.\n# This notebook primarily demonstrates usage of embedding layer and LSTM in keras\n\nmax_feature =20000\nmaxlen = 80\n(x_train,y_train),(x_test,y_test)=\\\nimdb.load_data(num_words=max_feature)\n# max feature means we will use only that much of the most frequent words in each moview review",
            "execution_count": 6,
            "outputs": []
        },
        {
            "metadata": {},
            "cell_type": "code",
            "source": "x_train=sequence.pad_sequences(x_train, maxlen = maxlen)\nx_test = sequence.pad_sequences(x_test, maxlen = maxlen)\nmodel = Sequential()\n\nmodel.add(Embedding(max_feature, 128))\nmodel.add(LSTM(128, dropout=0.2,recurrent_dropout=0.2,))\nmodel.add(Dense(1, activation = 'sigmoid'))",
            "execution_count": 3,
            "outputs": [
                {
                    "output_type": "stream",
                    "text": "WARNING:tensorflow:From /opt/conda/envs/Python36/lib/python3.6/site-packages/tensorflow/python/framework/op_def_library.py:263: colocate_with (from tensorflow.python.framework.ops) is deprecated and will be removed in a future version.\nInstructions for updating:\nColocations handled automatically by placer.\nWARNING:tensorflow:From /opt/conda/envs/Python36/lib/python3.6/site-packages/keras/backend/tensorflow_backend.py:3445: calling dropout (from tensorflow.python.ops.nn_ops) with keep_prob is deprecated and will be removed in a future version.\nInstructions for updating:\nPlease use `rate` instead of `keep_prob`. Rate should be set to `rate = 1 - keep_prob`.\n",
                    "name": "stdout"
                }
            ]
        },
        {
            "metadata": {},
            "cell_type": "code",
            "source": "model.compile(loss='binary_crossentropy', optimizer='SGD', metrics=['accuracy'])\nmodel.fit(x_train, y_train, batch_size = 32, epochs=15, validation_data=(x_test, y_test))\nmodel.evaluate(x_test, y_test, batch_size=32)",
            "execution_count": 4,
            "outputs": [
                {
                    "output_type": "stream",
                    "text": "WARNING:tensorflow:From /opt/conda/envs/Python36/lib/python3.6/site-packages/tensorflow/python/ops/math_ops.py:3066: to_int32 (from tensorflow.python.ops.math_ops) is deprecated and will be removed in a future version.\nInstructions for updating:\nUse tf.cast instead.\nTrain on 25000 samples, validate on 25000 samples\nEpoch 1/15\n25000/25000 [==============================] - 632s 25ms/step - loss: 0.6931 - acc: 0.5042 - val_loss: 0.6929 - val_acc: 0.5002\nEpoch 2/15\n25000/25000 [==============================] - 550s 22ms/step - loss: 0.6928 - acc: 0.5130 - val_loss: 0.6926 - val_acc: 0.5275\nEpoch 3/15\n25000/25000 [==============================] - 563s 23ms/step - loss: 0.6925 - acc: 0.5182 - val_loss: 0.6924 - val_acc: 0.5135\nEpoch 4/15\n25000/25000 [==============================] - 786s 31ms/step - loss: 0.6922 - acc: 0.5286 - val_loss: 0.6921 - val_acc: 0.5205\nEpoch 5/15\n25000/25000 [==============================] - 671s 27ms/step - loss: 0.6919 - acc: 0.5424 - val_loss: 0.6918 - val_acc: 0.5590\nEpoch 6/15\n25000/25000 [==============================] - 541s 22ms/step - loss: 0.6917 - acc: 0.5482 - val_loss: 0.6916 - val_acc: 0.5230\nEpoch 7/15\n25000/25000 [==============================] - 556s 22ms/step - loss: 0.6913 - acc: 0.5510 - val_loss: 0.6912 - val_acc: 0.5278\nEpoch 8/15\n25000/25000 [==============================] - 543s 22ms/step - loss: 0.6908 - acc: 0.5488 - val_loss: 0.6907 - val_acc: 0.5765\nEpoch 9/15\n25000/25000 [==============================] - 569s 23ms/step - loss: 0.6903 - acc: 0.5632 - val_loss: 0.6902 - val_acc: 0.5712\nEpoch 10/15\n25000/25000 [==============================] - 663s 27ms/step - loss: 0.6897 - acc: 0.5734 - val_loss: 0.6897 - val_acc: 0.5586\nEpoch 11/15\n25000/25000 [==============================] - 594s 24ms/step - loss: 0.6890 - acc: 0.5690 - val_loss: 0.6889 - val_acc: 0.5920\nEpoch 12/15\n25000/25000 [==============================] - 554s 22ms/step - loss: 0.6882 - acc: 0.5804 - val_loss: 0.6879 - val_acc: 0.5946\nEpoch 13/15\n25000/25000 [==============================] - 685s 27ms/step - loss: 0.6871 - acc: 0.5896 - val_loss: 0.6867 - val_acc: 0.5976\nEpoch 14/15\n25000/25000 [==============================] - 600s 24ms/step - loss: 0.6855 - acc: 0.5906 - val_loss: 0.6850 - val_acc: 0.6023\nEpoch 15/15\n25000/25000 [==============================] - 554s 22ms/step - loss: 0.6832 - acc: 0.6028 - val_loss: 0.6822 - val_acc: 0.6095\n25000/25000 [==============================] - 77s 3ms/step\n",
                    "name": "stdout"
                },
                {
                    "output_type": "execute_result",
                    "execution_count": 4,
                    "data": {
                        "text/plain": "[0.6822103518104553, 0.60948]"
                    },
                    "metadata": {}
                }
            ]
        },
        {
            "metadata": {},
            "cell_type": "code",
            "source": "",
            "execution_count": null,
            "outputs": []
        },
        {
            "metadata": {},
            "cell_type": "code",
            "source": "",
            "execution_count": null,
            "outputs": []
        }
    ],
    "metadata": {
        "kernelspec": {
            "name": "python3",
            "display_name": "Python 3.6",
            "language": "python"
        },
        "language_info": {
            "name": "python",
            "version": "3.6.9",
            "mimetype": "text/x-python",
            "codemirror_mode": {
                "name": "ipython",
                "version": 3
            },
            "pygments_lexer": "ipython3",
            "nbconvert_exporter": "python",
            "file_extension": ".py"
        }
    },
    "nbformat": 4,
    "nbformat_minor": 1
}