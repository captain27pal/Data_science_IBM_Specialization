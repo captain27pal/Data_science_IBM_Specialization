{
    "cells": [
        {
            "cell_type": "code",
            "execution_count": 41,
            "metadata": {},
            "outputs": [],
            "source": "from keras.applications.resnet50 import ResNet50\nfrom keras.preprocessing import image\nfrom keras.applications.resnet50 import preprocess_input, decode_predictions\nimport numpy as np"
        },
        {
            "cell_type": "code",
            "execution_count": 29,
            "metadata": {},
            "outputs": [],
            "source": "model=ResNet50(weights = 'imagenet') "
        },
        {
            "cell_type": "code",
            "execution_count": null,
            "metadata": {},
            "outputs": [],
            "source": "import os\n# print(os.getcwd())\n!ls /home/dsxuser/work\nprint(os.listdir('/home/dsxuser/local'))"
        },
        {
            "cell_type": "code",
            "execution_count": 38,
            "metadata": {},
            "outputs": [],
            "source": "img_path = 'elephant.jpg'\nimg = image.load_img(img_path,target_size = [224,224])\nx= image.img_to_array(img)\nx= np.expand_dims(x,axis=0)\nx = preprocess_input(x)"
        },
        {
            "cell_type": "code",
            "execution_count": 31,
            "metadata": {},
            "outputs": [
                {
                    "name": "stdout",
                    "output_type": "stream",
                    "text": "--2020-07-08 18:54:59--  https://www.motherjones.com/wp-content/uploads/2019/12/Getty121719.jpg?w=990\nResolving www.motherjones.com (www.motherjones.com)... 192.0.66.2\nConnecting to www.motherjones.com (www.motherjones.com)|192.0.66.2|:443... connected.\nHTTP request sent, awaiting response... 200 OK\nLength: 169227 (165K) [image/jpeg]\nSaving to: \u2018Getty121719.jpg?w=990\u2019\n\n100%[======================================>] 169,227     --.-K/s   in 0.008s  \n\n2020-07-08 18:54:59 (21.2 MB/s) - \u2018Getty121719.jpg?w=990\u2019 saved [169227/169227]\n\n"
                }
            ],
            "source": "!wget https://www.motherjones.com/wp-content/uploads/2019/12/Getty121719.jpg?w=990"
        },
        {
            "cell_type": "code",
            "execution_count": 32,
            "metadata": {},
            "outputs": [
                {
                    "name": "stdout",
                    "output_type": "stream",
                    "text": "Getty121719.jpg?w=990\r\n"
                }
            ],
            "source": "!ls"
        },
        {
            "cell_type": "code",
            "execution_count": 35,
            "metadata": {},
            "outputs": [
                {
                    "name": "stdout",
                    "output_type": "stream",
                    "text": "mv: cannot stat \u2018Getty121719.jpg?w=990\u2019: No such file or directory\r\n"
                }
            ],
            "source": "!mv 'Getty121719.jpg?w=990' 'elephant.jpg'"
        },
        {
            "cell_type": "code",
            "execution_count": 36,
            "metadata": {},
            "outputs": [],
            "source": "!mv 'elephant.png' 'elephant.jpg'"
        },
        {
            "cell_type": "code",
            "execution_count": 37,
            "metadata": {},
            "outputs": [
                {
                    "name": "stdout",
                    "output_type": "stream",
                    "text": "elephant.jpg\r\n"
                }
            ],
            "source": "!ls"
        },
        {
            "cell_type": "code",
            "execution_count": 42,
            "metadata": {},
            "outputs": [
                {
                    "name": "stdout",
                    "output_type": "stream",
                    "text": "Downloading data from https://s3.amazonaws.com/deep-learning-models/image-models/imagenet_class_index.json\n40960/35363 [==================================] - 0s 1us/step\npredicred: [('n01871265', 'tusker', 0.6319961), ('n02504458', 'African_elephant', 0.3217483), ('n02504013', 'Indian_elephant', 0.045891408)]\n"
                }
            ],
            "source": "preds = model.predict(x)\n# prediction is a list of tuples with class, description and probability\nprint('predicred:', decode_predictions(preds, top=3)[0])"
        },
        {
            "cell_type": "code",
            "execution_count": 43,
            "metadata": {},
            "outputs": [
                {
                    "name": "stdout",
                    "output_type": "stream",
                    "text": "--2020-07-08 19:00:49--  https://www.sciencemag.org/sites/default/files/styles/article_main_large/public/bee_16x9_0.jpg?itok=aH9W8VwL\nResolving www.sciencemag.org (www.sciencemag.org)... 52.9.171.38, 13.56.55.223\nConnecting to www.sciencemag.org (www.sciencemag.org)|52.9.171.38|:443... connected.\nHTTP request sent, awaiting response... 200 OK\nLength: 87692 (86K) [image/jpeg]\nSaving to: \u2018bee_16x9_0.jpg?itok=aH9W8VwL\u2019\n\n100%[======================================>] 87,692      --.-K/s   in 0.09s   \n\n2020-07-08 19:00:49 (991 KB/s) - \u2018bee_16x9_0.jpg?itok=aH9W8VwL\u2019 saved [87692/87692]\n\n"
                }
            ],
            "source": "!wget https://www.sciencemag.org/sites/default/files/styles/article_main_large/public/bee_16x9_0.jpg?itok=aH9W8VwL"
        },
        {
            "cell_type": "code",
            "execution_count": 44,
            "metadata": {},
            "outputs": [],
            "source": "!mv 'bee_16x9_0.jpg?itok=aH9W8VwL' 'bee.jpg'"
        },
        {
            "cell_type": "code",
            "execution_count": 45,
            "metadata": {},
            "outputs": [],
            "source": "img_path1 = 'bee.jpg'\nimg1 = image.load_img(img_path1,target_size = [224,224])\nx1= image.img_to_array(img1)\nx1= np.expand_dims(x1,axis=0)\nx1 = preprocess_input(x1)"
        },
        {
            "cell_type": "code",
            "execution_count": 48,
            "metadata": {},
            "outputs": [
                {
                    "name": "stdout",
                    "output_type": "stream",
                    "text": "predicred: [('n02206856', 'bee', 0.9814843), ('n03530642', 'honeycomb', 0.01118702), ('n07730033', 'cardoon', 0.0038598313)]\n"
                }
            ],
            "source": "preds = model.predict(x1)\n# prediction is a list of tuples with class, description and probability\nprint('predicred:', decode_predictions(preds, top=3)[0])\n# Even though the image of the  bee was very small, theimage net is able to determine its class with 98% accuracy"
        },
        {
            "cell_type": "code",
            "execution_count": null,
            "metadata": {},
            "outputs": [],
            "source": ""
        }
    ],
    "metadata": {
        "kernelspec": {
            "display_name": "Python 3.6",
            "language": "python",
            "name": "python3"
        },
        "language_info": {
            "codemirror_mode": {
                "name": "ipython",
                "version": 3
            },
            "file_extension": ".py",
            "mimetype": "text/x-python",
            "name": "python",
            "nbconvert_exporter": "python",
            "pygments_lexer": "ipython3",
            "version": "3.6.9"
        }
    },
    "nbformat": 4,
    "nbformat_minor": 1
}