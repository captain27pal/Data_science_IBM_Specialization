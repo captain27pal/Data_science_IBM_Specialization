{
    "cells": [
        {
            "cell_type": "markdown",
            "metadata": {},
            "source": "# Zero to Singularity: Create, Tune, Deploy and Scale a Deep Neural Network in 90 Minutes\n\nThis notebook is part of a masterclass held at IBM Think on 13th of February 2019 in San Fransisco\nIn this exercise you will train a Keras DeepLearning model running on top of TensorFlow. \n\nNote: For sake of bringing the training runtime down we've done two things\n\n1) Used a softmax regression model over a Convolutional Neural Network \n\n2) Trained only for one epoch instead of 20\n\nThis leads to approx. 5% less accuracy\n\n\nAuthors\n\nRomeo Kienzler - Chief Data Scientist, IBM Watson IoT\n\nKrishnamurthy Arthanarisamy - Architect, Watson Machine Learning Software Lab, Bangalore\n\n\n# Prerequisites\n\nPlease make sure the currently installed version of Keras and Tensorflow are matching the requirememts, if not, please run the two PIP commands below in order to re-install. Please restart the kernal before proceeding, please re-check if the versions are matching."
        },
        {
            "cell_type": "code",
            "execution_count": 1,
            "metadata": {},
            "outputs": [
                {
                    "name": "stderr",
                    "output_type": "stream",
                    "text": "Using TensorFlow backend.\n"
                },
                {
                    "name": "stdout",
                    "output_type": "stream",
                    "text": "Current:\t 2.2.4\nExpected:\t 2.2.5 \n"
                }
            ],
            "source": "import keras\nprint('Current:\\t', keras.__version__)\nprint('Expected:\\t 2.2.5 ')"
        },
        {
            "cell_type": "code",
            "execution_count": 2,
            "metadata": {},
            "outputs": [
                {
                    "name": "stdout",
                    "output_type": "stream",
                    "text": "Current:\t 1.13.1\nExpected:\t 1.15.0\n"
                }
            ],
            "source": "import tensorflow as tf\nprint('Current:\\t', tf.__version__)\nprint('Expected:\\t 1.15.0')"
        },
        {
            "cell_type": "markdown",
            "metadata": {},
            "source": "# IMPORTANT !!!\n\nIf you ran the two lines below please restart your kernel (Kernel->Restart & Clear Output)"
        },
        {
            "cell_type": "code",
            "execution_count": 3,
            "metadata": {},
            "outputs": [
                {
                    "name": "stdout",
                    "output_type": "stream",
                    "text": "Collecting keras==2.2.5\n\u001b[?25l  Downloading https://files.pythonhosted.org/packages/f8/ba/2d058dcf1b85b9c212cc58264c98a4a7dd92c989b798823cc5690d062bb2/Keras-2.2.5-py2.py3-none-any.whl (336kB)\n\u001b[K     |\u2588\u2588\u2588\u2588\u2588\u2588\u2588\u2588\u2588\u2588\u2588\u2588\u2588\u2588\u2588\u2588\u2588\u2588\u2588\u2588\u2588\u2588\u2588\u2588\u2588\u2588\u2588\u2588\u2588\u2588\u2588\u2588| 337kB 9.5MB/s eta 0:00:01\n\u001b[?25hCollecting keras-preprocessing>=1.1.0 (from keras==2.2.5)\n\u001b[?25l  Downloading https://files.pythonhosted.org/packages/79/4c/7c3275a01e12ef9368a892926ab932b33bb13d55794881e3573482b378a7/Keras_Preprocessing-1.1.2-py2.py3-none-any.whl (42kB)\n\u001b[K     |\u2588\u2588\u2588\u2588\u2588\u2588\u2588\u2588\u2588\u2588\u2588\u2588\u2588\u2588\u2588\u2588\u2588\u2588\u2588\u2588\u2588\u2588\u2588\u2588\u2588\u2588\u2588\u2588\u2588\u2588\u2588\u2588| 51kB 22.5MB/s eta 0:00:01\n\u001b[?25hRequirement already satisfied: six>=1.9.0 in /opt/conda/envs/Python36/lib/python3.6/site-packages (from keras==2.2.5) (1.12.0)\nRequirement already satisfied: pyyaml in /opt/conda/envs/Python36/lib/python3.6/site-packages (from keras==2.2.5) (3.13)\nRequirement already satisfied: scipy>=0.14 in /opt/conda/envs/Python36/lib/python3.6/site-packages (from keras==2.2.5) (1.2.0)\nCollecting keras-applications>=1.0.8 (from keras==2.2.5)\n\u001b[?25l  Downloading https://files.pythonhosted.org/packages/71/e3/19762fdfc62877ae9102edf6342d71b28fbfd9dea3d2f96a882ce099b03f/Keras_Applications-1.0.8-py3-none-any.whl (50kB)\n\u001b[K     |\u2588\u2588\u2588\u2588\u2588\u2588\u2588\u2588\u2588\u2588\u2588\u2588\u2588\u2588\u2588\u2588\u2588\u2588\u2588\u2588\u2588\u2588\u2588\u2588\u2588\u2588\u2588\u2588\u2588\u2588\u2588\u2588| 51kB 12.9MB/s eta 0:00:01\n\u001b[?25hRequirement already satisfied: numpy>=1.9.1 in /opt/conda/envs/Python36/lib/python3.6/site-packages (from keras==2.2.5) (1.15.4)\nRequirement already satisfied: h5py in /opt/conda/envs/Python36/lib/python3.6/site-packages (from keras==2.2.5) (2.9.0)\n\u001b[31mERROR: tensorflow 1.13.1 requires tensorboard<1.14.0,>=1.13.0, which is not installed.\u001b[0m\nInstalling collected packages: keras-preprocessing, keras-applications, keras\n  Found existing installation: Keras-Preprocessing 1.0.5\n    Uninstalling Keras-Preprocessing-1.0.5:\n      Successfully uninstalled Keras-Preprocessing-1.0.5\n  Found existing installation: Keras-Applications 1.0.6\n    Uninstalling Keras-Applications-1.0.6:\n      Successfully uninstalled Keras-Applications-1.0.6\n  Found existing installation: Keras 2.2.4\n    Uninstalling Keras-2.2.4:\n      Successfully uninstalled Keras-2.2.4\nSuccessfully installed keras-2.2.5 keras-applications-1.0.8 keras-preprocessing-1.1.2\n"
                }
            ],
            "source": "!pip install keras==2.2.5 "
        },
        {
            "cell_type": "code",
            "execution_count": 4,
            "metadata": {},
            "outputs": [
                {
                    "name": "stdout",
                    "output_type": "stream",
                    "text": "Collecting tensorflow==1.15.0\n\u001b[?25l  Downloading https://files.pythonhosted.org/packages/3f/98/5a99af92fb911d7a88a0005ad55005f35b4c1ba8d75fba02df726cd936e6/tensorflow-1.15.0-cp36-cp36m-manylinux2010_x86_64.whl (412.3MB)\n\u001b[K     |\u2588\u2588\u2588\u2588\u2588\u2588\u2588\u2588\u2588\u2588\u2588\u2588\u2588\u2588\u2588\u2588\u2588\u2588\u2588\u2588\u2588\u2588\u2588\u2588\u2588\u2588\u2588\u2588\u2588\u2588\u2588\u2588| 412.3MB 74kB/s s eta 0:00:01                      | 32.6MB 7.3MB/s eta 0:00:52          | 185.9MB 51.5MB/s eta 0:00:05     |\u2588\u2588\u2588\u2588\u2588\u2588\u2588\u2588\u2588\u2588\u2588\u2588\u2588\u2588\u2588\u2588\u2588\u2589              | 229.3MB 41.3MB/s eta 0:00:05\n\u001b[?25hRequirement already satisfied: grpcio>=1.8.6 in /opt/conda/envs/Python36/lib/python3.6/site-packages (from tensorflow==1.15.0) (1.16.1)\nCollecting google-pasta>=0.1.6 (from tensorflow==1.15.0)\n\u001b[?25l  Downloading https://files.pythonhosted.org/packages/a3/de/c648ef6835192e6e2cc03f40b19eeda4382c49b5bafb43d88b931c4c74ac/google_pasta-0.2.0-py3-none-any.whl (57kB)\n\u001b[K     |\u2588\u2588\u2588\u2588\u2588\u2588\u2588\u2588\u2588\u2588\u2588\u2588\u2588\u2588\u2588\u2588\u2588\u2588\u2588\u2588\u2588\u2588\u2588\u2588\u2588\u2588\u2588\u2588\u2588\u2588\u2588\u2588| 61kB 19.5MB/s eta 0:00:01\n\u001b[?25hRequirement already satisfied: keras-applications>=1.0.8 in /opt/conda/envs/Python36/lib/python3.6/site-packages (from tensorflow==1.15.0) (1.0.8)\nCollecting numpy<2.0,>=1.16.0 (from tensorflow==1.15.0)\n\u001b[?25l  Downloading https://files.pythonhosted.org/packages/93/0b/71ae818646c1a80fbe6776d41f480649523ed31243f1f34d9d7e41d70195/numpy-1.19.0-cp36-cp36m-manylinux2010_x86_64.whl (14.6MB)\n\u001b[K     |\u2588\u2588\u2588\u2588\u2588\u2588\u2588\u2588\u2588\u2588\u2588\u2588\u2588\u2588\u2588\u2588\u2588\u2588\u2588\u2588\u2588\u2588\u2588\u2588\u2588\u2588\u2588\u2588\u2588\u2588\u2588\u2588| 14.6MB 28.9MB/s eta 0:00:01\n\u001b[?25hCollecting tensorflow-estimator==1.15.1 (from tensorflow==1.15.0)\n\u001b[?25l  Downloading https://files.pythonhosted.org/packages/de/62/2ee9cd74c9fa2fa450877847ba560b260f5d0fb70ee0595203082dafcc9d/tensorflow_estimator-1.15.1-py2.py3-none-any.whl (503kB)\n\u001b[K     |\u2588\u2588\u2588\u2588\u2588\u2588\u2588\u2588\u2588\u2588\u2588\u2588\u2588\u2588\u2588\u2588\u2588\u2588\u2588\u2588\u2588\u2588\u2588\u2588\u2588\u2588\u2588\u2588\u2588\u2588\u2588\u2588| 512kB 42.9MB/s eta 0:00:01\n\u001b[?25hRequirement already satisfied: six>=1.10.0 in /opt/conda/envs/Python36/lib/python3.6/site-packages (from tensorflow==1.15.0) (1.12.0)\nRequirement already satisfied: wrapt>=1.11.1 in /opt/conda/envs/Python36/lib/python3.6/site-packages (from tensorflow==1.15.0) (1.11.1)\nRequirement already satisfied: astor>=0.6.0 in /opt/conda/envs/Python36/lib/python3.6/site-packages (from tensorflow==1.15.0) (0.7.1)\nCollecting tensorboard<1.16.0,>=1.15.0 (from tensorflow==1.15.0)\n\u001b[?25l  Downloading https://files.pythonhosted.org/packages/1e/e9/d3d747a97f7188f48aa5eda486907f3b345cd409f0a0850468ba867db246/tensorboard-1.15.0-py3-none-any.whl (3.8MB)\n\u001b[K     |\u2588\u2588\u2588\u2588\u2588\u2588\u2588\u2588\u2588\u2588\u2588\u2588\u2588\u2588\u2588\u2588\u2588\u2588\u2588\u2588\u2588\u2588\u2588\u2588\u2588\u2588\u2588\u2588\u2588\u2588\u2588\u2588| 3.8MB 39.4MB/s eta 0:00:01\n\u001b[?25hRequirement already satisfied: wheel>=0.26 in /opt/conda/envs/Python36/lib/python3.6/site-packages (from tensorflow==1.15.0) (0.32.3)\nRequirement already satisfied: absl-py>=0.7.0 in /opt/conda/envs/Python36/lib/python3.6/site-packages (from tensorflow==1.15.0) (0.7.0)\nRequirement already satisfied: keras-preprocessing>=1.0.5 in /opt/conda/envs/Python36/lib/python3.6/site-packages (from tensorflow==1.15.0) (1.1.2)\nRequirement already satisfied: termcolor>=1.1.0 in /opt/conda/envs/Python36/lib/python3.6/site-packages (from tensorflow==1.15.0) (1.1.0)\nRequirement already satisfied: gast==0.2.2 in /opt/conda/envs/Python36/lib/python3.6/site-packages (from tensorflow==1.15.0) (0.2.2)\nRequirement already satisfied: protobuf>=3.6.1 in /opt/conda/envs/Python36/lib/python3.6/site-packages (from tensorflow==1.15.0) (3.11.2)\nCollecting opt-einsum>=2.3.2 (from tensorflow==1.15.0)\n\u001b[?25l  Downloading https://files.pythonhosted.org/packages/63/a5/e6c07b08b934831ccb8c98ee335e66b7761c5754ee3cabfe4c11d0b1af28/opt_einsum-3.2.1-py3-none-any.whl (63kB)\n\u001b[K     |\u2588\u2588\u2588\u2588\u2588\u2588\u2588\u2588\u2588\u2588\u2588\u2588\u2588\u2588\u2588\u2588\u2588\u2588\u2588\u2588\u2588\u2588\u2588\u2588\u2588\u2588\u2588\u2588\u2588\u2588\u2588\u2588| 71kB 27.0MB/s eta 0:00:01\n\u001b[?25hRequirement already satisfied: h5py in /opt/conda/envs/Python36/lib/python3.6/site-packages (from keras-applications>=1.0.8->tensorflow==1.15.0) (2.9.0)\nRequirement already satisfied: werkzeug>=0.11.15 in /opt/conda/envs/Python36/lib/python3.6/site-packages (from tensorboard<1.16.0,>=1.15.0->tensorflow==1.15.0) (0.14.1)\nRequirement already satisfied: markdown>=2.6.8 in /opt/conda/envs/Python36/lib/python3.6/site-packages (from tensorboard<1.16.0,>=1.15.0->tensorflow==1.15.0) (3.0.1)\nCollecting setuptools>=41.0.0 (from tensorboard<1.16.0,>=1.15.0->tensorflow==1.15.0)\n\u001b[?25l  Downloading https://files.pythonhosted.org/packages/41/fa/60888a1d591db07bc9c17dce2bcfb9f00ac507c0a23ecb827e76feb8f816/setuptools-49.1.0-py3-none-any.whl (789kB)\n\u001b[K     |\u2588\u2588\u2588\u2588\u2588\u2588\u2588\u2588\u2588\u2588\u2588\u2588\u2588\u2588\u2588\u2588\u2588\u2588\u2588\u2588\u2588\u2588\u2588\u2588\u2588\u2588\u2588\u2588\u2588\u2588\u2588\u2588| 798kB 39.8MB/s eta 0:00:01\n\u001b[31mERROR: autoai-libs 1.10.5 has requirement pandas>=0.24.2, but you'll have pandas 0.24.1 which is incompatible.\u001b[0m\n\u001b[?25hInstalling collected packages: google-pasta, numpy, tensorflow-estimator, setuptools, tensorboard, opt-einsum, tensorflow\n  Found existing installation: numpy 1.15.4\n    Uninstalling numpy-1.15.4:\n      Successfully uninstalled numpy-1.15.4\n  Found existing installation: tensorflow-estimator 1.13.0\n    Uninstalling tensorflow-estimator-1.13.0:\n      Successfully uninstalled tensorflow-estimator-1.13.0\n  Found existing installation: setuptools 40.8.0\n    Uninstalling setuptools-40.8.0:\n      Successfully uninstalled setuptools-40.8.0\n  Found existing installation: tensorflow 1.13.1\n    Uninstalling tensorflow-1.13.1:\n      Successfully uninstalled tensorflow-1.13.1\nSuccessfully installed google-pasta-0.2.0 numpy-1.19.0 opt-einsum-3.2.1 setuptools-49.1.0 tensorboard-1.15.0 tensorflow-1.15.0 tensorflow-estimator-1.15.1\n"
                }
            ],
            "source": "!pip install tensorflow==1.15.0"
        },
        {
            "cell_type": "markdown",
            "metadata": {},
            "source": "# 1.0 Train a MNIST digits recognition model\nWe start with some global parameters and imports"
        },
        {
            "cell_type": "code",
            "execution_count": 5,
            "metadata": {},
            "outputs": [],
            "source": "#some learners constantly reported 502 errors in Watson Studio. \n#This is due to the limited resources in the free tier and the heavy resource consumption of Keras.\n#This is a workaround to limit resource consumption\n\nfrom keras import backend as K\n\nK.set_session(K.tf.Session(config=K.tf.ConfigProto(intra_op_parallelism_threads=1, inter_op_parallelism_threads=1)))"
        },
        {
            "cell_type": "code",
            "execution_count": 6,
            "metadata": {},
            "outputs": [],
            "source": "import keras\nfrom keras.models import Model\nfrom keras.layers import Input, Dense\nfrom keras.layers import Dense, Dropout, Flatten\nfrom keras.layers import Conv2D, MaxPooling2D\nfrom keras.datasets import mnist\nfrom keras.models import Sequential, load_model\nfrom keras.optimizers import RMSprop\nfrom keras.layers import LeakyReLU\n\nfrom keras import backend as K\nimport numpy as np"
        },
        {
            "cell_type": "code",
            "execution_count": 8,
            "metadata": {},
            "outputs": [
                {
                    "name": "stdout",
                    "output_type": "stream",
                    "text": "Downloading data from https://s3.amazonaws.com/img-datasets/mnist.npz\n11493376/11490434 [==============================] - 0s 0us/step\n"
                }
            ],
            "source": "batch_size = 128\nnum_classes = 10\nepochs = 1\n\n# the data, split between train and test sets\n(x_train, y_train), (x_test, y_test) = mnist.load_data()\n\nx_train = x_train.reshape(60000, 784)\nx_test = x_test.reshape(10000, 784)\nx_train = x_train.astype('float32')\nx_test = x_test.astype('float32')\nx_train /= 255\nx_test /= 255\n\n\n# convert class vectors to binary class matrices\ny_train = keras.utils.to_categorical(y_train, num_classes)\ny_test = keras.utils.to_categorical(y_test, num_classes)\n"
        },
        {
            "cell_type": "markdown",
            "metadata": {},
            "source": "# Training a simple model\nFirst we'll train a simple softmax regressor and check what accuracy we get"
        },
        {
            "cell_type": "code",
            "execution_count": 9,
            "metadata": {},
            "outputs": [
                {
                    "name": "stdout",
                    "output_type": "stream",
                    "text": "WARNING:tensorflow:From /opt/conda/envs/Python36/lib/python3.6/site-packages/tensorflow/python/ops/math_ops.py:3066: to_int32 (from tensorflow.python.ops.math_ops) is deprecated and will be removed in a future version.\nInstructions for updating:\nUse tf.cast instead.\nTrain on 60000 samples, validate on 10000 samples\nEpoch 1/1\n60000/60000 [==============================] - 8s 139us/step - loss: 0.3838 - acc: 0.8892 - val_loss: 0.3299 - val_acc: 0.9040\n\n\nAccuracy: 0.904\n"
                }
            ],
            "source": "model = Sequential()\nmodel.add(Dense(512, input_shape=(784,)))\nmodel.add(Dense(num_classes, activation='softmax'))\n\n\n\nmodel.compile(loss='categorical_crossentropy',\n        optimizer='rmsprop',\n        metrics=['accuracy'])\n\nmodel.fit(x_train, y_train,\n        batch_size=batch_size,\n        epochs=epochs,\n        verbose=1,\n        validation_data=(x_test, y_test))\n        \nscore = model.evaluate(x_test, y_test, verbose=0)\n\nprint('\\n')\nprint('Accuracy:',score[1])"
        },
        {
            "cell_type": "code",
            "execution_count": 10,
            "metadata": {},
            "outputs": [],
            "source": "#some cleanup from the previous run\n!rm -f ker_*\n!rm -f my_best_model.tgz"
        },
        {
            "cell_type": "markdown",
            "metadata": {},
            "source": "You should see an accuracy of approximately 90%. Now lets define a hyper-parameter grid including different activation functions and gradient descent optimizers. We\u2019re optimizing over the grid using grid search (nested for loops) and store each model variant in a file. We then decide for the best one in order to deploy to IBM Watson Machine Learning."
        },
        {
            "cell_type": "code",
            "execution_count": 11,
            "metadata": {},
            "outputs": [
                {
                    "name": "stdout",
                    "output_type": "stream",
                    "text": "Train on 60000 samples, validate on 10000 samples\nEpoch 1/1\n60000/60000 [==============================] - 10s 163us/step - loss: 0.4206 - acc: 0.8872 - val_loss: 0.2579 - val_acc: 0.9263\nTrain on 60000 samples, validate on 10000 samples\nEpoch 1/1\n60000/60000 [==============================] - 10s 162us/step - loss: 0.4101 - acc: 0.8900 - val_loss: 0.2886 - val_acc: 0.9179\nTrain on 60000 samples, validate on 10000 samples\nEpoch 1/1\n60000/60000 [==============================] - 11s 176us/step - loss: 0.5476 - acc: 0.8610 - val_loss: 0.3338 - val_acc: 0.9025\nTrain on 60000 samples, validate on 10000 samples\nEpoch 1/1\n60000/60000 [==============================] - 7s 114us/step - loss: 0.3314 - acc: 0.9025 - val_loss: 0.1963 - val_acc: 0.9433\nTrain on 60000 samples, validate on 10000 samples\nEpoch 1/1\n60000/60000 [==============================] - 9s 151us/step - loss: 0.3239 - acc: 0.9082 - val_loss: 0.2325 - val_acc: 0.9333\nTrain on 60000 samples, validate on 10000 samples\nEpoch 1/1\n60000/60000 [==============================] - 12s 193us/step - loss: 0.3654 - acc: 0.8937 - val_loss: 0.2440 - val_acc: 0.9322\nTrain on 60000 samples, validate on 10000 samples\nEpoch 1/1\n60000/60000 [==============================] - 12s 204us/step - loss: 0.2506 - acc: 0.9280 - val_loss: 0.1369 - val_acc: 0.9561\nTrain on 60000 samples, validate on 10000 samples\nEpoch 1/1\n60000/60000 [==============================] - 12s 206us/step - loss: 0.2363 - acc: 0.9318 - val_loss: 0.1384 - val_acc: 0.9605\nTrain on 60000 samples, validate on 10000 samples\nEpoch 1/1\n60000/60000 [==============================] - 14s 230us/step - loss: 0.2991 - acc: 0.9145 - val_loss: 0.1691 - val_acc: 0.9496\n"
                }
            ],
            "source": "#define parameter grid\n\nactivation_functions_layer_1 = ['sigmoid','tanh','relu']\nopimizers = ['rmsprop','adagrad','adadelta']\n\n#optimize over parameter grid (grid search)\n\nfor activation_function_layer_1 in activation_functions_layer_1:\n    for opimizer in opimizers:\n        \n        model = Sequential()\n        model.add(Dense(512, activation = activation_function_layer_1, input_shape=(784,)))\n        model.add(Dense(num_classes, activation='softmax'))\n\n\n\n        model.compile(loss='categorical_crossentropy',\n              optimizer=opimizer,\n              metrics=['accuracy'])\n\n        model.fit(x_train, y_train,\n              batch_size=batch_size,\n              epochs=epochs,\n              verbose=1,\n              validation_data=(x_test, y_test))\n        \n        score = model.evaluate(x_test, y_test, verbose=0)\n        save_path = \"ker_func_mnist_model_2.%s.%s.%s.h5\" % (activation_function_layer_1,opimizer,score[1])\n        model.save(save_path)"
        },
        {
            "cell_type": "markdown",
            "metadata": {},
            "source": "# Model evaluation\nLet's have a look at all the models and see which hyper parameter configuration was the best one. You should see that relu and rmsprop gives you > 95% of accuracy on the validation set"
        },
        {
            "cell_type": "code",
            "execution_count": 12,
            "metadata": {},
            "outputs": [
                {
                    "name": "stdout",
                    "output_type": "stream",
                    "text": "-rw-r----- 1 dsxuser dsxuser 3276560 Jul  9 16:47 ker_func_mnist_model_2.sigmoid.rmsprop.0.9263.h5\r\n-rw-r----- 1 dsxuser dsxuser 3276560 Jul  9 16:47 ker_func_mnist_model_2.sigmoid.adagrad.0.9179.h5\r\n-rw-r----- 1 dsxuser dsxuser 4905120 Jul  9 16:48 ker_func_mnist_model_2.sigmoid.adadelta.0.9025.h5\r\n-rw-r----- 1 dsxuser dsxuser 3276568 Jul  9 16:48 ker_func_mnist_model_2.tanh.rmsprop.0.9433.h5\r\n-rw-r----- 1 dsxuser dsxuser 3276568 Jul  9 16:48 ker_func_mnist_model_2.tanh.adagrad.0.9333.h5\r\n-rw-r----- 1 dsxuser dsxuser 4905128 Jul  9 16:48 ker_func_mnist_model_2.tanh.adadelta.0.9322.h5\r\n-rw-r----- 1 dsxuser dsxuser 3276568 Jul  9 16:48 ker_func_mnist_model_2.relu.rmsprop.0.9561.h5\r\n-rw-r----- 1 dsxuser dsxuser 3276568 Jul  9 16:49 ker_func_mnist_model_2.relu.adagrad.0.9605.h5\r\n-rw-r----- 1 dsxuser dsxuser 4905128 Jul  9 16:49 ker_func_mnist_model_2.relu.adadelta.0.9496.h5\r\n"
                }
            ],
            "source": "ls -ltr ker_*"
        },
        {
            "cell_type": "markdown",
            "metadata": {},
            "source": "Now it's time to create a tarball out of your favorite model, please replace the name of your favorite model H5 file with \u201cplease-put-me-here\u201d"
        },
        {
            "cell_type": "code",
            "execution_count": 14,
            "metadata": {},
            "outputs": [
                {
                    "name": "stdout",
                    "output_type": "stream",
                    "text": "ker_func_mnist_model_2.relu.adagrad.0.9605.h5\r\n"
                }
            ],
            "source": "!tar -zcvf my_best_model.tgz ker_func_mnist_model_2.relu.adagrad.0.9605.h5"
        },
        {
            "cell_type": "markdown",
            "metadata": {},
            "source": "## 2.0 Save the trained model to WML Repository"
        },
        {
            "cell_type": "markdown",
            "metadata": {},
            "source": "We will use `watson_machine_learning_client` python library to save the trained model to WML Repository, to deploy the saved model and to make predictions using the deployed model.</br>\n\n\n`watson_machine_learning_client` can be installed using the following `pip` command in case you are running outside Watson Studio:\n\n`!pip install watson-machine-learning-client --upgrade`"
        },
        {
            "cell_type": "code",
            "execution_count": 15,
            "metadata": {},
            "outputs": [
                {
                    "name": "stderr",
                    "output_type": "stream",
                    "text": "2020-07-09 16:50:36,227 - watson_machine_learning_client.wml_client_error - WARNING - Error during getting IAM Token. (POST https://iam.cloud.ibm.com/oidc/token)\nStatus code: 400, body: {\"context\":{\"requestId\":\"3e6711fffe3e4520a8c4737e5d94d427\",\"requestType\":\"incoming.OIDC_Token\",\"userAgent\":\"python-requests/2.21.0\",\"url\":\"https://iam.cloud.ibm.com\",\"instanceId\":\"iamid-5.7-8148-aa50811-7f4556df6c-bcmw2\",\"threadId\":\"d035d\",\"host\":\"iamid-5.7-8148-aa50811-7f4556df6c-bcmw2\",\"startTime\":\"09.07.2020 16:50:36:128 GMT\",\"endTime\":\"01.01.1970 00:00:00:000 GMT\",\"elapsedTime\":\"0\",\"locale\":\"en_US\",\"clusterName\":\"iam-id-prdal12-8brn\"},\"errorCode\":\"BXNIM0415E\",\"errorMessage\":\"Provided API key could not be found\"}\n2020-07-09 17:04:20,424 - watson_machine_learning_client.metanames - WARNING - 'AUTHOR_EMAIL' meta prop is deprecated. It will be ignored.\n2020-07-09 17:05:10,197 - watson_machine_learning_client.wml_client_error - WARNING - 'deployment_uid' is not an uid: 'PASTE_YOUR_GUID_HERE_IF_APPLICABLE'\n"
                }
            ],
            "source": "from watson_machine_learning_client import WatsonMachineLearningAPIClient"
        },
        {
            "cell_type": "markdown",
            "metadata": {},
            "source": "Please go to https://cloud.ibm.com/,  login, click on the \u201cCreate Resource\u201d button. From the \u201cAI\u201d category, please choose \u201cMachine Learning\u201d. Wait for the \u201cCreate\u201d button to activate and click on \u201cCreate\u201d. Click on \u201cService Credentials\u201d, then \u201cNew Credential\u201d, then \u201cAdd\u201d. From the new entry in the table, under \u201cACTIONS\u201d, please click on \u201cView Credentials\u201d. Please copy the whole JSON object to your clipboard. Now just paste the JSON object below so that you are able to use your personal instance of Watson Machine Learning."
        },
        {
            "cell_type": "code",
            "execution_count": 18,
            "metadata": {},
            "outputs": [],
            "source": "wml_credentials={\n  \"apikey\": \"2aj6uq66x_tqgEfvq1FGOZ8PwD4X-Cqe2XjaIriyLD75\",\n  \"iam_apikey_description\": \"Auto-generated for key 13cff054-730f-4330-9c91-4496004dae75\",\n  \"iam_apikey_name\": \"Service credentials-1\",\n  \"iam_role_crn\": \"crn:v1:bluemix:public:iam::::serviceRole:Writer\",\n  \"iam_serviceid_crn\": \"crn:v1:bluemix:public:iam-identity::a/ab651b4ec4824a3c91c7b79e4e3b4d37::serviceid:ServiceId-efddd192-9712-4de2-8a90-254e61d0c2c4\",\n  \"instance_id\": \"647889d3-fd3b-4f2f-b647-c444cb9e850e\",\n  \"url\": \"https://us-south.ml.cloud.ibm.com\"\n}"
        },
        {
            "cell_type": "code",
            "execution_count": 19,
            "metadata": {},
            "outputs": [],
            "source": "client = WatsonMachineLearningAPIClient(wml_credentials)"
        },
        {
            "cell_type": "code",
            "execution_count": 20,
            "metadata": {},
            "outputs": [],
            "source": "model_props = {client.repository.ModelMetaNames.AUTHOR_NAME: \"IBM\", \n               client.repository.ModelMetaNames.AUTHOR_EMAIL: \"ibm@ibm.com\", \n               client.repository.ModelMetaNames.NAME: \"KK3_clt_keras_mnist\",\n               client.repository.ModelMetaNames.FRAMEWORK_NAME: \"tensorflow\",\n               client.repository.ModelMetaNames.FRAMEWORK_VERSION: \"1.15\" ,\n               client.repository.ModelMetaNames.FRAMEWORK_LIBRARIES: [{\"name\": \"keras\", \"version\": \"2.2.5\"}]\n              }"
        },
        {
            "cell_type": "code",
            "execution_count": 21,
            "metadata": {},
            "outputs": [],
            "source": "published_model = client.repository.store_model(model=\"my_best_model.tgz\", meta_props=model_props)\n"
        },
        {
            "cell_type": "code",
            "execution_count": 22,
            "metadata": {},
            "outputs": [],
            "source": "published_model_uid = client.repository.get_model_uid(published_model)\nmodel_details = client.repository.get_details(published_model_uid)"
        },
        {
            "cell_type": "markdown",
            "metadata": {},
            "source": "## 3.0 Deploy the Keras model"
        },
        {
            "cell_type": "code",
            "execution_count": 23,
            "metadata": {},
            "outputs": [
                {
                    "name": "stdout",
                    "output_type": "stream",
                    "text": "----  ----  ----  -----  -------  ---------  -------------\nGUID  NAME  TYPE  STATE  CREATED  FRAMEWORK  ARTIFACT TYPE\n----  ----  ----  -----  -------  ---------  -------------\n"
                }
            ],
            "source": "client.deployments.list()"
        },
        {
            "cell_type": "markdown",
            "metadata": {},
            "source": "To keep your environment clean, just delete all deployments from previous runs"
        },
        {
            "cell_type": "code",
            "execution_count": 24,
            "metadata": {},
            "outputs": [
                {
                    "ename": "WMLClientError",
                    "evalue": "'deployment_uid' is not an uid: 'PASTE_YOUR_GUID_HERE_IF_APPLICABLE'",
                    "output_type": "error",
                    "traceback": [
                        "\u001b[0;31m---------------------------------------------------------------------------\u001b[0m",
                        "\u001b[0;31mWMLClientError\u001b[0m                            Traceback (most recent call last)",
                        "\u001b[0;32m<ipython-input-24-ade5204de2a2>\u001b[0m in \u001b[0;36m<module>\u001b[0;34m\u001b[0m\n\u001b[0;32m----> 1\u001b[0;31m \u001b[0mclient\u001b[0m\u001b[0;34m.\u001b[0m\u001b[0mdeployments\u001b[0m\u001b[0;34m.\u001b[0m\u001b[0mdelete\u001b[0m\u001b[0;34m(\u001b[0m\u001b[0;34m\"PASTE_YOUR_GUID_HERE_IF_APPLICABLE\"\u001b[0m\u001b[0;34m)\u001b[0m\u001b[0;34m\u001b[0m\u001b[0;34m\u001b[0m\u001b[0m\n\u001b[0m",
                        "\u001b[0;32m/opt/conda/envs/Python36/lib/python3.6/site-packages/watson_machine_learning_client/deployments.py\u001b[0m in \u001b[0;36mdelete\u001b[0;34m(self, deployment_uid)\u001b[0m\n\u001b[1;32m    789\u001b[0m \u001b[0;34m\u001b[0m\u001b[0m\n\u001b[1;32m    790\u001b[0m         \u001b[0;32mif\u001b[0m \u001b[0mdeployment_uid\u001b[0m \u001b[0;32mis\u001b[0m \u001b[0;32mnot\u001b[0m \u001b[0;32mNone\u001b[0m \u001b[0;32mand\u001b[0m \u001b[0;32mnot\u001b[0m \u001b[0mis_uid\u001b[0m\u001b[0;34m(\u001b[0m\u001b[0mdeployment_uid\u001b[0m\u001b[0;34m)\u001b[0m\u001b[0;34m:\u001b[0m\u001b[0;34m\u001b[0m\u001b[0;34m\u001b[0m\u001b[0m\n\u001b[0;32m--> 791\u001b[0;31m             \u001b[0;32mraise\u001b[0m \u001b[0mWMLClientError\u001b[0m\u001b[0;34m(\u001b[0m\u001b[0;34mu'\\'deployment_uid\\' is not an uid: \\'{}\\''\u001b[0m\u001b[0;34m.\u001b[0m\u001b[0mformat\u001b[0m\u001b[0;34m(\u001b[0m\u001b[0mdeployment_uid\u001b[0m\u001b[0;34m)\u001b[0m\u001b[0;34m)\u001b[0m\u001b[0;34m\u001b[0m\u001b[0;34m\u001b[0m\u001b[0m\n\u001b[0m\u001b[1;32m    792\u001b[0m \u001b[0;34m\u001b[0m\u001b[0m\n\u001b[1;32m    793\u001b[0m         \u001b[0mdeployment_url\u001b[0m \u001b[0;34m=\u001b[0m \u001b[0mself\u001b[0m\u001b[0;34m.\u001b[0m\u001b[0m_href_definitions\u001b[0m\u001b[0;34m.\u001b[0m\u001b[0mget_deployment_href\u001b[0m\u001b[0;34m(\u001b[0m\u001b[0mdeployment_uid\u001b[0m\u001b[0;34m)\u001b[0m\u001b[0;34m\u001b[0m\u001b[0;34m\u001b[0m\u001b[0m\n",
                        "\u001b[0;31mWMLClientError\u001b[0m: 'deployment_uid' is not an uid: 'PASTE_YOUR_GUID_HERE_IF_APPLICABLE'"
                    ]
                }
            ],
            "source": "client.deployments.delete(\"PASTE_YOUR_GUID_HERE_IF_APPLICABLE\")"
        },
        {
            "cell_type": "code",
            "execution_count": 25,
            "metadata": {},
            "outputs": [
                {
                    "name": "stdout",
                    "output_type": "stream",
                    "text": "\n\n#######################################################################################\n\nSynchronous deployment creation for uid: '9fa54e11-64fd-47a4-ba31-f6461d66aa46' started\n\n#######################################################################################\n\n\nINITIALIZING\nDEPLOY_IN_PROGRESS.\nDEPLOY_SUCCESS\n\n\n------------------------------------------------------------------------------------------------\nSuccessfully finished deployment creation, deployment_uid='85d336d4-7f91-4883-8f79-28fa78709c25'\n------------------------------------------------------------------------------------------------\n\n\n"
                }
            ],
            "source": "created_deployment = client.deployments.create(published_model_uid, name=\"k1_keras_mnist_clt1\")"
        },
        {
            "cell_type": "markdown",
            "metadata": {},
            "source": "## Test the model"
        },
        {
            "cell_type": "code",
            "execution_count": 26,
            "metadata": {},
            "outputs": [
                {
                    "name": "stdout",
                    "output_type": "stream",
                    "text": "https://us-south.ml.cloud.ibm.com/v3/wml_instances/647889d3-fd3b-4f2f-b647-c444cb9e850e/deployments/85d336d4-7f91-4883-8f79-28fa78709c25/online\n"
                }
            ],
            "source": "#scoring_endpoint = client.deployments.get_scoring_url(created_deployment)\nscoring_endpoint = created_deployment['entity']['scoring_url']\nprint(scoring_endpoint)"
        },
        {
            "cell_type": "code",
            "execution_count": 27,
            "metadata": {},
            "outputs": [
                {
                    "name": "stdout",
                    "output_type": "stream",
                    "text": "The answer should be:  5\n"
                }
            ],
            "source": "x_score_1 = x_test[23].tolist()\nprint('The answer should be: ',np.argmax(y_test[23]))\nscoring_payload = {'values': [x_score_1]}"
        },
        {
            "cell_type": "code",
            "execution_count": 28,
            "metadata": {},
            "outputs": [
                {
                    "name": "stdout",
                    "output_type": "stream",
                    "text": "And the answer is!...  5\n"
                }
            ],
            "source": "predictions = client.deployments.score(scoring_endpoint, scoring_payload)\nprint('And the answer is!... ',predictions['values'][0][1])"
        },
        {
            "cell_type": "code",
            "execution_count": null,
            "metadata": {},
            "outputs": [],
            "source": ""
        }
    ],
    "metadata": {
        "kernelspec": {
            "display_name": "Python 3.6",
            "language": "python",
            "name": "python3"
        },
        "language_info": {
            "codemirror_mode": {
                "name": "ipython",
                "version": 3
            },
            "file_extension": ".py",
            "mimetype": "text/x-python",
            "name": "python",
            "nbconvert_exporter": "python",
            "pygments_lexer": "ipython3",
            "version": "3.6.9"
        }
    },
    "nbformat": 4,
    "nbformat_minor": 2
}